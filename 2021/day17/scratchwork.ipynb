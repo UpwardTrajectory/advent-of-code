{
 "cells": [
  {
   "cell_type": "code",
   "execution_count": 2,
   "id": "7d5c1c53-6cbe-4c53-93d3-3dc5ba5c91af",
   "metadata": {},
   "outputs": [],
   "source": [
    "%load_ext lab_black\n",
    "%load_ext autoreload\n",
    "%autoreload 2"
   ]
  },
  {
   "cell_type": "code",
   "execution_count": 34,
   "id": "cc1a022d-5e8b-4697-8940-71bb72f90f38",
   "metadata": {},
   "outputs": [],
   "source": [
    "from pathlib import Path\n",
    "import numpy as np\n",
    "from puzzle import Puzzle, Projectile"
   ]
  },
  {
   "cell_type": "code",
   "execution_count": 76,
   "id": "3a21f997-71fc-46fe-b2e4-c81ac539b819",
   "metadata": {},
   "outputs": [
    {
     "data": {
      "text/plain": [
       "8646"
      ]
     },
     "execution_count": 76,
     "metadata": {},
     "output_type": "execute_result"
    }
   ],
   "source": [
    "puz = Puzzle(\"inputs.txt\")\n",
    "\n",
    "puz.part_1()\n",
    "# puz.traveled"
   ]
  },
  {
   "cell_type": "code",
   "execution_count": 77,
   "id": "0c881d5f-b5e2-4ff7-b343-a69870cfd81f",
   "metadata": {},
   "outputs": [
    {
     "data": {
      "text/plain": [
       "5945"
      ]
     },
     "execution_count": 77,
     "metadata": {},
     "output_type": "execute_result"
    }
   ],
   "source": [
    "puz.part_2()"
   ]
  },
  {
   "cell_type": "code",
   "execution_count": 79,
   "id": "e9135c56-b913-44fb-a76b-6290bf4047cd",
   "metadata": {},
   "outputs": [
    {
     "data": {
      "text/plain": [
       "131"
      ]
     },
     "execution_count": 79,
     "metadata": {},
     "output_type": "execute_result"
    }
   ],
   "source": [
    "max(x[1] for x in puz.traveled.keys())"
   ]
  },
  {
   "cell_type": "code",
   "execution_count": 82,
   "id": "4e3d19ba-3c43-456e-9c00-8d913026f790",
   "metadata": {},
   "outputs": [
    {
     "data": {
      "text/plain": [
       "5945"
      ]
     },
     "execution_count": 82,
     "metadata": {},
     "output_type": "execute_result"
    }
   ],
   "source": [
    "len(puz.traveled)"
   ]
  },
  {
   "cell_type": "code",
   "execution_count": 69,
   "id": "e60f3398-477c-4609-aad0-080e3699f472",
   "metadata": {},
   "outputs": [
    {
     "data": {
      "text/plain": [
       "112"
      ]
     },
     "execution_count": 69,
     "metadata": {},
     "output_type": "execute_result"
    }
   ],
   "source": [
    "works_on_test = \"\"\"23,-10  25,-9   27,-5   29,-6   22,-6   21,-7   9,0     27,-7   24,-5\n",
    "25,-7   26,-6   25,-5   6,8     11,-2   20,-5   29,-10  6,3     28,-7\n",
    "8,0     30,-6   29,-8   20,-10  6,7     6,4     6,1     14,-4   21,-6\n",
    "26,-10  7,-1    7,7     8,-1    21,-9   6,2     20,-7   30,-10  14,-3\n",
    "20,-8   13,-2   7,3     28,-8   29,-9   15,-3   22,-5   26,-8   25,-8\n",
    "25,-6   15,-4   9,-2    15,-2   12,-2   28,-9   12,-3   24,-6   23,-7\n",
    "25,-10  7,8     11,-3   26,-7   7,1     23,-9   6,0     22,-10  27,-6\n",
    "8,1     22,-8   13,-4   7,6     28,-6   11,-4   12,-4   26,-9   7,4\n",
    "24,-10  23,-8   30,-8   7,0     9,-1    10,-1   26,-5   22,-9   6,5\n",
    "7,5     23,-6   28,-10  10,-2   11,-1   20,-9   14,-2   29,-7   13,-3\n",
    "23,-5   24,-8   27,-9   30,-7   28,-5   21,-10  7,9     6,6     21,-5\n",
    "27,-10  7,2     30,-9   21,-8   22,-7   24,-9   20,-6   6,9     29,-5\n",
    "8,-2    27,-8   30,-5   24,-7\"\"\"\n",
    "\n",
    "works_on_test = [x.split(\",\") for x in works_on_test.replace(\"\\n\", \" \").split(\" \") if x]\n",
    "works_on_test = set((int(x[0]), int(x[1])) for x in works_on_test)\n",
    "len(works_on_test)"
   ]
  },
  {
   "cell_type": "code",
   "execution_count": 70,
   "id": "5cb44beb-8376-4112-a260-2e3520b441a3",
   "metadata": {},
   "outputs": [
    {
     "data": {
      "text/plain": [
       "{(6, 0),\n",
       " (6, 9),\n",
       " (7, -1),\n",
       " (7, 0),\n",
       " (7, 9),\n",
       " (8, -1),\n",
       " (8, 0),\n",
       " (9, -1),\n",
       " (20, -10),\n",
       " (21, -10),\n",
       " (22, -10),\n",
       " (23, -10),\n",
       " (24, -10),\n",
       " (25, -10),\n",
       " (26, -10),\n",
       " (27, -10),\n",
       " (28, -10),\n",
       " (29, -10),\n",
       " (30, -10)}"
      ]
     },
     "execution_count": 70,
     "metadata": {},
     "output_type": "execute_result"
    }
   ],
   "source": [
    "works_on_test & set(puz.traveled.keys())"
   ]
  },
  {
   "cell_type": "code",
   "execution_count": 72,
   "id": "dd134ced-8f70-42ef-bf72-ba567f159907",
   "metadata": {},
   "outputs": [
    {
     "data": {
      "text/plain": [
       "(6, 31)"
      ]
     },
     "execution_count": 72,
     "metadata": {},
     "output_type": "execute_result"
    }
   ],
   "source": [
    "puz.min_vx, puz.max_vx"
   ]
  },
  {
   "cell_type": "code",
   "execution_count": 73,
   "id": "f99c07b1-4678-4c35-9eec-8f3f57b8f259",
   "metadata": {},
   "outputs": [
    {
     "data": {
      "text/plain": [
       "(-16, 120)"
      ]
     },
     "execution_count": 73,
     "metadata": {},
     "output_type": "execute_result"
    }
   ],
   "source": [
    "puz.min_vy, puz.max_vy"
   ]
  },
  {
   "cell_type": "code",
   "execution_count": 71,
   "id": "a4456bc7-49e9-41a4-814f-bbf9c1a5e1f7",
   "metadata": {},
   "outputs": [
    {
     "data": {
      "text/plain": [
       "{(6, 1),\n",
       " (6, 2),\n",
       " (6, 3),\n",
       " (6, 4),\n",
       " (6, 5),\n",
       " (6, 6),\n",
       " (6, 7),\n",
       " (6, 8),\n",
       " (7, 1),\n",
       " (7, 2),\n",
       " (7, 3),\n",
       " (7, 4),\n",
       " (7, 5),\n",
       " (7, 6),\n",
       " (7, 7),\n",
       " (7, 8),\n",
       " (8, -2),\n",
       " (8, 1),\n",
       " (9, -2),\n",
       " (9, 0),\n",
       " (10, -2),\n",
       " (10, -1),\n",
       " (11, -4),\n",
       " (11, -3),\n",
       " (11, -2),\n",
       " (11, -1),\n",
       " (12, -4),\n",
       " (12, -3),\n",
       " (12, -2),\n",
       " (13, -4),\n",
       " (13, -3),\n",
       " (13, -2),\n",
       " (14, -4),\n",
       " (14, -3),\n",
       " (14, -2),\n",
       " (15, -4),\n",
       " (15, -3),\n",
       " (15, -2),\n",
       " (20, -9),\n",
       " (20, -8),\n",
       " (20, -7),\n",
       " (20, -6),\n",
       " (20, -5),\n",
       " (21, -9),\n",
       " (21, -8),\n",
       " (21, -7),\n",
       " (21, -6),\n",
       " (21, -5),\n",
       " (22, -9),\n",
       " (22, -8),\n",
       " (22, -7),\n",
       " (22, -6),\n",
       " (22, -5),\n",
       " (23, -9),\n",
       " (23, -8),\n",
       " (23, -7),\n",
       " (23, -6),\n",
       " (23, -5),\n",
       " (24, -9),\n",
       " (24, -8),\n",
       " (24, -7),\n",
       " (24, -6),\n",
       " (24, -5),\n",
       " (25, -9),\n",
       " (25, -8),\n",
       " (25, -7),\n",
       " (25, -6),\n",
       " (25, -5),\n",
       " (26, -9),\n",
       " (26, -8),\n",
       " (26, -7),\n",
       " (26, -6),\n",
       " (26, -5),\n",
       " (27, -9),\n",
       " (27, -8),\n",
       " (27, -7),\n",
       " (27, -6),\n",
       " (27, -5),\n",
       " (28, -9),\n",
       " (28, -8),\n",
       " (28, -7),\n",
       " (28, -6),\n",
       " (28, -5),\n",
       " (29, -9),\n",
       " (29, -8),\n",
       " (29, -7),\n",
       " (29, -6),\n",
       " (29, -5),\n",
       " (30, -9),\n",
       " (30, -8),\n",
       " (30, -7),\n",
       " (30, -6),\n",
       " (30, -5)}"
      ]
     },
     "execution_count": 71,
     "metadata": {},
     "output_type": "execute_result"
    }
   ],
   "source": [
    "works_on_test - set(puz.traveled.keys())"
   ]
  },
  {
   "cell_type": "markdown",
   "id": "d5dafc24-d3c5-4e49-986e-1f7c61371142",
   "metadata": {},
   "source": [
    "## Black format my final answer"
   ]
  },
  {
   "cell_type": "code",
   "execution_count": null,
   "id": "e2a7f23f-8dbf-4bd5-b0f7-91e245dcb340",
   "metadata": {},
   "outputs": [],
   "source": [
    "dir_names = [\"day\"+str(x) for x in range(15, 26)]\n",
    "dir_names"
   ]
  },
  {
   "cell_type": "code",
   "execution_count": 83,
   "id": "f40fc80c-e7ee-4f21-ada1-7edabeba05e4",
   "metadata": {},
   "outputs": [
    {
     "name": "stdout",
     "output_type": "stream",
     "text": [
      "Tested both Parts 1 & 2. All tests passed.\n",
      "Part 1: 8646\n",
      "Part 2: 5945\n"
     ]
    }
   ],
   "source": [
    "from pathlib import Path\n",
    "from typing import Literal\n",
    "from dataclasses import dataclass, field\n",
    "import numpy as np\n",
    "\n",
    "\n",
    "T1_ANS = 45  # gets to max_height with initial = (6, 9)\n",
    "T2_ANS = 112\n",
    "\n",
    "\n",
    "@dataclass\n",
    "class Projectile:\n",
    "    v_x: int\n",
    "    v_y: int\n",
    "    x: int = 0\n",
    "    y: int = 0\n",
    "    n_stops: int = 0\n",
    "    stops: list[tuple[int, int]] = field(default_factory=list, repr=False)\n",
    "\n",
    "    def __post_init__(self):\n",
    "        self.stops.append((self.x, self.y))\n",
    "        return\n",
    "\n",
    "    def move(self):\n",
    "        self.x += self.v_x\n",
    "        self.y += self.v_y\n",
    "\n",
    "        if self.v_x < 0:\n",
    "            self.v_x += 1\n",
    "        if self.v_x > 0:\n",
    "            self.v_x -= 1\n",
    "\n",
    "        self.v_y -= 1\n",
    "\n",
    "        self.stops.append((self.x, self.y))\n",
    "\n",
    "        return\n",
    "\n",
    "    def max_height(self) -> int:\n",
    "        trajectory = np.array(self.stops)\n",
    "        return trajectory[:, 1].max()\n",
    "\n",
    "    def in_the_zone(self, xmin: int, xmax: int, ymin: int, ymax: int) -> bool:\n",
    "        \"\"\"CAUTION: this only works after traveling a certain number of stops\n",
    "        This logic is contained in the \"while ...\" loop of Puzzle.projectile_in_zone()\n",
    "\n",
    "        According to that logic, self.stops will always end at the first point OUTSIDE\n",
    "        the box. So we investigate the 2nd-to-last stop to see if it's still inside the box.\n",
    "        \"\"\"\n",
    "        x, y = self.stops[-2]\n",
    "        if (xmin <= x <= xmax) and (ymin <= y <= ymax):\n",
    "            return True\n",
    "        return False\n",
    "\n",
    "\n",
    "@dataclass\n",
    "class Puzzle:\n",
    "    fname: str\n",
    "    traveled: dict[tuple[int, int] : Projectile] = field(\n",
    "        default_factory=dict, repr=False\n",
    "    )\n",
    "\n",
    "    def __post_init__(self):\n",
    "        raw = Path(self.fname).open().read()  # or read() for a big block of text\n",
    "        xs, ys = [s[2:].split(\"..\") for s in raw[13:].split(\", \")]\n",
    "        self.xmin = int(xs[0])\n",
    "        self.xmax = int(xs[1])\n",
    "        self.ymin = int(ys[0])\n",
    "        self.ymax = int(ys[1])\n",
    "\n",
    "        return\n",
    "\n",
    "    def projectile_in_zone(self, v_x: int, v_y: int) -> bool:\n",
    "        p = Projectile(v_x, v_y)\n",
    "\n",
    "        while (p.x <= self.xmax) and (p.y >= self.ymin):\n",
    "            p.move()\n",
    "\n",
    "        if p.in_the_zone(self.xmin, self.xmax, self.ymin, self.ymax):\n",
    "            self.traveled[(v_x, v_y)] = p.max_height()\n",
    "\n",
    "        return\n",
    "\n",
    "    @property\n",
    "    def min_vx(self) -> int:\n",
    "        \"\"\"From solving summation of decreasing numbers with quadratic formula:\n",
    "        (v_x * (v_x + 1) / 2) >= xmin\n",
    "        \"\"\"\n",
    "        return int(1 + (-1 + np.sqrt(1 + 8 * self.xmin)) // 2)\n",
    "\n",
    "    @property\n",
    "    def max_vx(self) -> int:\n",
    "        \"\"\"Can't hit if we overshoot on the very first stop\"\"\"\n",
    "        return self.xmax + 1\n",
    "\n",
    "    @property\n",
    "    def min_vy(self) -> int:\n",
    "        \"\"\"Lower than this will always undershoot the lower left corner\"\"\"\n",
    "        return self.ymin - self.min_vx\n",
    "\n",
    "    @property\n",
    "    def max_vy(self) -> int:\n",
    "        \"\"\"Somewhat arbitrary scaling of min_vx, but I'm pretty sure there's\n",
    "        a closed-form maximum that relies on min_vx, and I'm pretty sure\n",
    "        this bound > the true mathematical bound.\n",
    "        \"\"\"\n",
    "        return 10 * self.min_vx\n",
    "\n",
    "    def part_1(self) -> int:\n",
    "        for x in range(self.min_vx, self.max_vx + 1):\n",
    "            for y in range(self.min_vy, self.max_vy + 1):\n",
    "                self.projectile_in_zone(x, y)\n",
    "\n",
    "        return max(self.traveled.values())\n",
    "\n",
    "    def part_2(self):\n",
    "        \"\"\"This assumes self.part_1() has already been calculated so that\n",
    "        self.traveled is populated\n",
    "        \"\"\"\n",
    "        return len(self.traveled)\n",
    "\n",
    "\n",
    "def run_tests(p1_ans=T1_ANS, p2_ans=T2_ANS, fname=\"tests.txt\"):\n",
    "    puz = Puzzle(fname)\n",
    "    t1 = puz.part_1()\n",
    "    assert t1 == p1_ans, f\"Test 1 failed. Got {t1} instead of {p1_ans}\"\n",
    "    status_update = \"Test #1 passed, did not try Part 2\"\n",
    "\n",
    "    if p2_ans is not None:\n",
    "        t2 = puz.part_2()\n",
    "        assert t2 == p2_ans, f\"Test 2 failed. Got {t2} instead of {p2_ans}\"\n",
    "        status_update = \"Tested both Parts 1 & 2. All tests passed.\"\n",
    "\n",
    "    print(status_update)\n",
    "    return\n",
    "\n",
    "\n",
    "if __name__ == \"__main__\":\n",
    "    run_tests()\n",
    "\n",
    "    puz = Puzzle(\"inputs.txt\")\n",
    "\n",
    "    p1 = puz.part_1()\n",
    "    print(\"Part 1:\", p1)\n",
    "\n",
    "    if T2_ANS is not None:\n",
    "        p2 = puz.part_2()\n",
    "        print(\"Part 2:\", p2)"
   ]
  },
  {
   "cell_type": "code",
   "execution_count": null,
   "id": "55ceb89a-0d41-436f-9b85-41cadd467708",
   "metadata": {},
   "outputs": [],
   "source": []
  }
 ],
 "metadata": {
  "kernelspec": {
   "display_name": "Python 3 (ipykernel)",
   "language": "python",
   "name": "python3"
  },
  "language_info": {
   "codemirror_mode": {
    "name": "ipython",
    "version": 3
   },
   "file_extension": ".py",
   "mimetype": "text/x-python",
   "name": "python",
   "nbconvert_exporter": "python",
   "pygments_lexer": "ipython3",
   "version": "3.10.0"
  }
 },
 "nbformat": 4,
 "nbformat_minor": 5
}
