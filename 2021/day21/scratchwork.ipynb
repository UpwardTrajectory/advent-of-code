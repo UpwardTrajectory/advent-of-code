{
 "cells": [
  {
   "cell_type": "code",
   "execution_count": 1,
   "id": "7d5c1c53-6cbe-4c53-93d3-3dc5ba5c91af",
   "metadata": {},
   "outputs": [],
   "source": [
    "%load_ext lab_black\n",
    "%load_ext autoreload\n",
    "%autoreload 2"
   ]
  },
  {
   "cell_type": "code",
   "execution_count": 2,
   "id": "cc1a022d-5e8b-4697-8940-71bb72f90f38",
   "metadata": {},
   "outputs": [],
   "source": [
    "from pathlib import Path\n",
    "from puzzle import Puzzle"
   ]
  },
  {
   "cell_type": "code",
   "execution_count": 14,
   "id": "1d9b8c88-c8e5-483f-808b-273ccf6d2fc9",
   "metadata": {},
   "outputs": [
    {
     "data": {
      "text/plain": [
       "(Player(pos=4, score=0, total_rolls=0, winner=False),\n",
       " Player(pos=8, score=0, total_rolls=0, winner=False))"
      ]
     },
     "execution_count": 14,
     "metadata": {},
     "output_type": "execute_result"
    }
   ],
   "source": [
    "puz = Puzzle(\"tests.txt\")\n",
    "puz.p1, puz.p2"
   ]
  },
  {
   "cell_type": "code",
   "execution_count": 15,
   "id": "011edae3-4272-431a-99e6-f704cf0bfeea",
   "metadata": {},
   "outputs": [
    {
     "data": {
      "text/plain": [
       "array([6, 3, 1, 0, 0, 0, 1, 3, 6, 7], dtype=int64)"
      ]
     },
     "execution_count": 15,
     "metadata": {},
     "output_type": "execute_result"
    }
   ],
   "source": [
    "p1 = puz.p1\n",
    "tmp = p1.advance_dirac()\n",
    "tmp"
   ]
  },
  {
   "cell_type": "code",
   "execution_count": 16,
   "id": "358bd147-0d9f-4237-b7ad-8b430ee94f9d",
   "metadata": {},
   "outputs": [
    {
     "data": {
      "text/plain": [
       "array([2908, 3139, 2908, 2313, 1599, 1038,  828, 1038, 1599, 2313],\n",
       "      dtype=int64)"
      ]
     },
     "execution_count": 16,
     "metadata": {},
     "output_type": "execute_result"
    }
   ],
   "source": [
    "tmp = p1.advance_dirac(tmp, 6)\n",
    "tmp"
   ]
  },
  {
   "cell_type": "code",
   "execution_count": 11,
   "id": "899b12c8-5036-40a5-a970-b4562f89e426",
   "metadata": {},
   "outputs": [
    {
     "data": {
      "text/plain": [
       "array([1, 3, 6, 7, 6, 3, 1, 0, 0, 0], dtype=int64)"
      ]
     },
     "execution_count": 11,
     "metadata": {},
     "output_type": "execute_result"
    }
   ],
   "source": [
    "p2 = puz.p2\n",
    "tmp2 = p2.advance_dirac()\n",
    "tmp2"
   ]
  },
  {
   "cell_type": "code",
   "execution_count": null,
   "id": "b9a12476-d7fc-4dc4-a240-327aec348652",
   "metadata": {},
   "outputs": [],
   "source": []
  },
  {
   "cell_type": "code",
   "execution_count": 7,
   "id": "e1c2b4bc-d332-45d9-907f-6a583af4034a",
   "metadata": {},
   "outputs": [
    {
     "data": {
      "text/plain": [
       "array([ 6,  6,  3,  0,  0,  0,  7, 24, 54, 70], dtype=int64)"
      ]
     },
     "execution_count": 7,
     "metadata": {},
     "output_type": "execute_result"
    }
   ],
   "source": [
    "tmp @ p1.dirac_scorer"
   ]
  },
  {
   "cell_type": "code",
   "execution_count": null,
   "id": "f3db4964-4d13-40c6-98e0-2aab102386a2",
   "metadata": {},
   "outputs": [],
   "source": [
    "puz.p2"
   ]
  },
  {
   "cell_type": "code",
   "execution_count": null,
   "id": "0c881d5f-b5e2-4ff7-b343-a69870cfd81f",
   "metadata": {},
   "outputs": [],
   "source": [
    "puz.part_2()"
   ]
  },
  {
   "cell_type": "markdown",
   "id": "d5dafc24-d3c5-4e49-986e-1f7c61371142",
   "metadata": {},
   "source": [
    "## Black format my final answer"
   ]
  },
  {
   "cell_type": "code",
   "execution_count": null,
   "id": "e2a7f23f-8dbf-4bd5-b0f7-91e245dcb340",
   "metadata": {},
   "outputs": [],
   "source": [
    "dir_names = [\"day\"+str(x) for x in range(15, 26)]\n",
    "dir_names"
   ]
  },
  {
   "cell_type": "code",
   "execution_count": null,
   "id": "f40fc80c-e7ee-4f21-ada1-7edabeba05e4",
   "metadata": {},
   "outputs": [],
   "source": [
    "from pathlib import Path\n",
    "from typing import Literal\n",
    "from dataclasses import dataclass, field\n",
    "from itertools import cycle\n",
    "import numpy as np\n",
    "\n",
    "\n",
    "T1_ANS = 739785\n",
    "T2_ANS = None\n",
    "\n",
    "\n",
    "@dataclass\n",
    "class Player:\n",
    "    pos: Literal[range(1, 11)]\n",
    "    score: int = 0\n",
    "    total_rolls: int = 0\n",
    "    winner: bool = False\n",
    "\n",
    "    def advance(self, rolls: list[int, int, int]):\n",
    "        self.total_rolls += 3\n",
    "        self.pos = (self.pos + sum(rolls)) % 10\n",
    "\n",
    "        if self.pos == 0:\n",
    "            self.pos = 10\n",
    "        self.score += self.pos\n",
    "\n",
    "        if self.score >= 1000:\n",
    "            self.winner = True\n",
    "            print(\"WINNER!:\", self)\n",
    "\n",
    "        return\n",
    "\n",
    "\n",
    "@dataclass\n",
    "class Puzzle:\n",
    "    fname: str\n",
    "\n",
    "    def __post_init__(self):\n",
    "        raw = Path(self.fname).open().readlines()  # or read() for a big block of text\n",
    "        self.p1 = Player(int(raw[0].split(\": \")[-1]))\n",
    "        self.p2 = Player(int(raw[1].split(\": \")[-1]))\n",
    "        return\n",
    "\n",
    "    def part_1(self):\n",
    "        p1 = self.p1\n",
    "        p2 = self.p2\n",
    "\n",
    "        roll_deterministic = cycle(range(1, 101))\n",
    "        players = cycle([p1, p2])\n",
    "\n",
    "        plyr = next(players)\n",
    "\n",
    "        for _ in range(1111):\n",
    "\n",
    "            next_3 = [next(roll_deterministic) for _ in range(3)]\n",
    "            plyr.advance(next_3)\n",
    "            if plyr.winner:\n",
    "                return next(players).score * (p1.total_rolls + p2.total_rolls)\n",
    "                # return f\"{(lps := next(players).score)}  * {(tr := p1.total_rolls + p2.total_rolls)} = {lps * tr}\"\n",
    "            plyr = next(players)\n",
    "\n",
    "    def part_2(self):\n",
    "        pass\n",
    "\n",
    "\n",
    "def run_tests(p1_ans=T1_ANS, p2_ans=T2_ANS, fname=\"tests.txt\"):\n",
    "    puz = Puzzle(fname)\n",
    "    t1 = puz.part_1()\n",
    "    assert t1 == p1_ans, f\"Test 1 failed. Got {t1} instead of {p1_ans}\"\n",
    "\n",
    "    if p2_ans is not None:\n",
    "        t2 = puz.part_2()\n",
    "        assert t2 == p2_ans, f\"Test 2 failed. Got {t2} instead of {p2_ans}\"\n",
    "\n",
    "    print(\"All tests passed.\")\n",
    "    return\n",
    "\n",
    "\n",
    "if __name__ == \"__main__\":\n",
    "    run_tests()\n",
    "\n",
    "    puz = Puzzle(\"inputs.txt\")\n",
    "\n",
    "    p1 = puz.part_1()\n",
    "    print(\"Part 1:\", p1)\n",
    "\n",
    "    if T2_ANS is not None:\n",
    "        p2 = puz.part_2()\n",
    "        print(\"Part 2:\", p2)"
   ]
  },
  {
   "cell_type": "code",
   "execution_count": null,
   "id": "55ceb89a-0d41-436f-9b85-41cadd467708",
   "metadata": {},
   "outputs": [],
   "source": [
    "from itertools import product\n",
    "import numpy as np\n",
    "\n",
    "\n",
    "paths = [[1, 2, 3] for _ in range(3)]\n",
    "tmp = np.array(tuple(product(*paths)))#.sum(axis=1)\n",
    "tmp"
   ]
  },
  {
   "cell_type": "code",
   "execution_count": null,
   "id": "c8fa048c-16b8-4640-953c-cfb5cc63c80f",
   "metadata": {},
   "outputs": [],
   "source": [
    "changer = np.zeros((10,10), dtype=int)\n",
    "changer"
   ]
  },
  {
   "cell_type": "code",
   "execution_count": null,
   "id": "26078539-e3d6-443e-8f8b-cea353ac3f7a",
   "metadata": {},
   "outputs": [],
   "source": [
    "tmp = \"\"\"1\t1\t1\t\t\t\t\t\t\t\n",
    "\t\t1\t1\t1\t\t\t\t\t\t\n",
    "\t\t\t1\t1\t1\t\t\t\t\t\n",
    "\t\t\t\t1\t1\t1\t\t\t\t\n",
    "\t\t\t\t\t1\t1\t1\t\t\t\n",
    "\t\t\t\t\t\t1\t1\t1\t\t\n",
    "\t\t\t\t\t\t\t1\t1\t1\n",
    "1\t\t\t\t\t\t\t\t1\t1\n",
    "1\t1\t\t\t\t\t\t\t\t1\n",
    "1\t1\t1\t\t\t\t\t\t\t\"\"\"\n",
    "tmp = tmp.replace(\"1\\t1\", \"11\").replace(\"\\t1\", \"1\").replace(\"1\\t\", \"1\").replace(\"\\t\", \"0\")\n",
    "tmp = np.array([list(row) for row in tmp.split(\"\\n\")]).astype(int)\n",
    "tmp"
   ]
  },
  {
   "cell_type": "code",
   "execution_count": null,
   "id": "e8eedb77-3fef-42e8-9a2b-4b7948986ead",
   "metadata": {},
   "outputs": [],
   "source": [
    "import numpy as np\n",
    "\n",
    "p1_start = 4\n",
    "p2_start = 8\n",
    "\n",
    "def advance(n):\n",
    "    # fmt: off\n",
    "    changer = np.array([\n",
    "        [0, 1, 1, 1, 0, 0, 0, 0, 0, 0],\n",
    "        [0, 0, 1, 1, 1, 0, 0, 0, 0, 0],\n",
    "        [0, 0, 0, 1, 1, 1, 0, 0, 0, 0],\n",
    "        [0, 0, 0, 0, 1, 1, 1, 0, 0, 0],\n",
    "        [0, 0, 0, 0, 0, 1, 1, 1, 0, 0],\n",
    "        [0, 0, 0, 0, 0, 0, 1, 1, 1, 0],\n",
    "        [0, 0, 0, 0, 0, 0, 0, 1, 1, 1],\n",
    "        [1, 0, 0, 0, 0, 0, 0, 0, 1, 1],\n",
    "        [1, 1, 0, 0, 0, 0, 0, 0, 0, 1],\n",
    "        [1, 1, 1, 0, 0, 0, 0, 0, 0, 0]\n",
    "    ]).astype(np.int64)\n",
    "    # fmt: on\n",
    "    return np.linalg.matrix_power(changer, n)\n",
    "\n",
    "# def score(start, adv):\n",
    "#     return start @ adv @ scorer\n",
    "\n",
    "scorer = np.identity(10).astype(np.int64) * range(1, 11)\n",
    "\n",
    "\n",
    "p1 = np.zeros(10).astype(np.int64)\n",
    "p1[p1_start-1] = 1\n",
    "p2 = np.zeros(10).astype(np.int64)\n",
    "p2[p2_start-1] = 1\n",
    "\n",
    "p1_scores = []\n",
    "p2_scores = []\n",
    "\n",
    "for n in range(19):\n",
    "    p1_done = p1 @ advance(n)\n",
    "    p1_scores.append(p1_done @ scorer)\n",
    "    \n",
    "    p2_done = p2 @ advance(n)\n",
    "    p2_scores.append(p2_done @ scorer)\n",
    "    \n",
    "p1_scores = np.vstack(p1_scores)\n",
    "p2_scores = np.vstack(p2_scores)\n",
    "\n",
    "p1_scores.cumsum(axis=0)"
   ]
  },
  {
   "cell_type": "code",
   "execution_count": null,
   "id": "eeda3240-62a1-4e98-af5f-1f0ecae3c23e",
   "metadata": {},
   "outputs": [],
   "source": [
    "scores = np.stack([p1_scores, p2_scores])\n",
    "scores"
   ]
  },
  {
   "cell_type": "code",
   "execution_count": null,
   "id": "ecf511d7-a9fb-4ef6-b0b1-f215d994971f",
   "metadata": {},
   "outputs": [],
   "source": [
    "341960390180808 + 444356092776315"
   ]
  },
  {
   "cell_type": "code",
   "execution_count": null,
   "id": "22168a92-42b8-4dba-bfc3-7a567f1e0ba9",
   "metadata": {},
   "outputs": [],
   "source": [
    "np.matmul(start, advance(3))"
   ]
  },
  {
   "cell_type": "code",
   "execution_count": null,
   "id": "773f3bbb-ad23-4fc8-bffc-31b1575cee11",
   "metadata": {},
   "outputs": [],
   "source": [
    "scorer = np.identity(10).astype(np.int64) * range(1, 11)\n",
    "scorer\n"
   ]
  },
  {
   "cell_type": "code",
   "execution_count": 19,
   "id": "1fc2b7af-5dda-49af-a30b-2669ce488525",
   "metadata": {},
   "outputs": [
    {
     "name": "stdout",
     "output_type": "stream",
     "text": [
      "647920021341197\n"
     ]
    }
   ],
   "source": [
    "#### Copied from\n",
    "## https://www.reddit.com/r/adventofcode/comments/rn2eom/2021_day_21_python_help_with_part2_subtle_error/\n",
    "\n",
    "from functools import cache\n",
    "from itertools import product\n",
    "from typing import NamedTuple\n",
    "\n",
    "\n",
    "class State(NamedTuple):\n",
    "    scores: tuple[int, int]\n",
    "    positions: tuple[int, int]\n",
    "    turn: int\n",
    "\n",
    "\n",
    "@cache\n",
    "def ways_to_reach(state: State, initial_state: State):\n",
    "\n",
    "    # base cases\n",
    "    if state == initial_state:\n",
    "        return 1\n",
    "    if state.scores < initial_state.scores:\n",
    "        return 0\n",
    "\n",
    "    player = prev_turn = 1 - state.turn  # it was the other player's turn\n",
    "    prev_states = []\n",
    "\n",
    "    # loop over all possible outcomes of 3 rolls and go back a turn\n",
    "    for roll_seq in product(range(1, 4), repeat=3):\n",
    "        roll = sum(roll_seq)\n",
    "        scores = list(state.scores)\n",
    "        positions = list(state.positions)\n",
    "\n",
    "        scores[player] -= positions[player]\n",
    "        positions[player] -= roll\n",
    "        positions[player] = (positions[player] - 1) % 10 + 1\n",
    "\n",
    "        if max(scores) < 21:  # otherwise game already over\n",
    "            prev_states.append(\n",
    "                State(scores=tuple(scores), positions=tuple(positions), turn=player)\n",
    "            )\n",
    "\n",
    "    return sum(ways_to_reach(prev_state, initial_state) for prev_state in prev_states)\n",
    "\n",
    "\n",
    "def part2(initial_state: State):\n",
    "    winning_states_0 = (\n",
    "        State(scores=(s0, s1), positions=(p0, p1), turn=1)\n",
    "        for s0 in range(21, 31)\n",
    "        for s1 in range(1, 21)\n",
    "        for p0 in range(1, 11)\n",
    "        for p1 in range(1, 11)\n",
    "    )\n",
    "    winning_states_1 = (\n",
    "        State(scores=(s0, s1), positions=(p0, p1), turn=0)\n",
    "        for s0 in range(1, 21)\n",
    "        for s1 in range(21, 31)\n",
    "        for p0 in range(1, 11)\n",
    "        for p1 in range(1, 11)\n",
    "    )\n",
    "    p0_wins = sum(ways_to_reach(state, initial_state) for state in winning_states_0)\n",
    "    p1_wins = sum(ways_to_reach(state, initial_state) for state in winning_states_1)\n",
    "    return max(p0_wins, p1_wins)\n",
    "\n",
    "\n",
    "def main():\n",
    "    initial_state = State((0, 0), (6, 4), 0)\n",
    "    print(part2(initial_state))\n",
    "\n",
    "\n",
    "if __name__ == \"__main__\":\n",
    "    main()"
   ]
  },
  {
   "cell_type": "code",
   "execution_count": null,
   "id": "18d75eab-2139-4275-8ed2-863282b41e32",
   "metadata": {},
   "outputs": [],
   "source": []
  }
 ],
 "metadata": {
  "kernelspec": {
   "display_name": "Python 3 (ipykernel)",
   "language": "python",
   "name": "python3"
  },
  "language_info": {
   "codemirror_mode": {
    "name": "ipython",
    "version": 3
   },
   "file_extension": ".py",
   "mimetype": "text/x-python",
   "name": "python",
   "nbconvert_exporter": "python",
   "pygments_lexer": "ipython3",
   "version": "3.10.0"
  }
 },
 "nbformat": 4,
 "nbformat_minor": 5
}
