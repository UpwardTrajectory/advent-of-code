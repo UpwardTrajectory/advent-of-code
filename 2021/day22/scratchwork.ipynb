{
 "cells": [
  {
   "cell_type": "code",
   "execution_count": 1,
   "id": "7d5c1c53-6cbe-4c53-93d3-3dc5ba5c91af",
   "metadata": {},
   "outputs": [],
   "source": [
    "%load_ext lab_black\n",
    "%load_ext autoreload\n",
    "%autoreload 2"
   ]
  },
  {
   "cell_type": "code",
   "execution_count": 2,
   "id": "cc1a022d-5e8b-4697-8940-71bb72f90f38",
   "metadata": {},
   "outputs": [],
   "source": [
    "from pathlib import Path\n",
    "from puzzle import Puzzle, Cube"
   ]
  },
  {
   "cell_type": "code",
   "execution_count": 22,
   "id": "1d9b8c88-c8e5-483f-808b-273ccf6d2fc9",
   "metadata": {
    "tags": []
   },
   "outputs": [
    {
     "data": {
      "text/plain": [
       "Puzzle(fname='inputs.txt')"
      ]
     },
     "execution_count": 22,
     "metadata": {},
     "output_type": "execute_result"
    }
   ],
   "source": [
    "puz = Puzzle(\"inputs.txt\")\n",
    "puz"
   ]
  },
  {
   "cell_type": "code",
   "execution_count": 23,
   "id": "a1d88ef2-1167-4d0e-9ea5-386e98642acc",
   "metadata": {},
   "outputs": [
    {
     "name": "stdout",
     "output_type": "stream",
     "text": [
      "Cube(ON, x=[44: 92), y=[38: 90), z=[40: 93))\n",
      "Cube(ON, x=[17: 64), y=[16: 66), z=[53: 98))\n",
      "Cube(ON, x=[44: 98), y=[43: 89), z=[27: 79))\n",
      "Cube(ON, x=[40: 88), y=[47: 94), z=[39: 89))\n",
      "Cube(ON, x=[8: 58), y=[11: 60), z=[21: 73))\n",
      "Cube(ON, x=[39: 88), y=[14: 62), z=[16: 63))\n",
      "Cube(ON, x=[19: 64), y=[38: 91), z=[51: 100))\n",
      "Cube(ON, x=[27: 79), y=[43: 95), z=[11: 63))\n",
      "Cube(ON, x=[49: 95), y=[2: 54), z=[13: 65))\n",
      "Cube(ON, x=[50: 100), y=[23: 77), z=[17: 63))\n",
      "Cube(OFF, x=[37: 51), y=[85: 96), z=[56: 66))\n",
      "Cube(ON, x=[9: 57), y=[33: 83), z=[28: 80))\n",
      "Cube(OFF, x=[25: 39), y=[6: 19), z=[31: 51))\n",
      "Cube(ON, x=[19: 72), y=[44: 98), z=[48: 96))\n",
      "Cube(OFF, x=[51: 68), y=[37: 49), z=[2: 17))\n",
      "Cube(ON, x=[10: 64), y=[46: 99), z=[21: 68))\n",
      "Cube(OFF, x=[67: 80), y=[11: 21), z=[35: 55))\n",
      "Cube(ON, x=[30: 75), y=[32: 78), z=[11: 58))\n",
      "Cube(OFF, x=[57: 71), y=[24: 39), z=[24: 43))\n",
      "Cube(ON, x=[13: 59), y=[33: 81), z=[36: 89))\n"
     ]
    },
    {
     "data": {
      "text/plain": [
       "588200"
      ]
     },
     "execution_count": 23,
     "metadata": {},
     "output_type": "execute_result"
    }
   ],
   "source": [
    "puz.part_1()"
   ]
  },
  {
   "cell_type": "code",
   "execution_count": 20,
   "id": "e49dc4e7-4743-426f-bf04-64122e0b5887",
   "metadata": {},
   "outputs": [
    {
     "data": {
      "text/plain": [
       "588200"
      ]
     },
     "execution_count": 20,
     "metadata": {},
     "output_type": "execute_result"
    }
   ],
   "source": [
    "puz.galaxy.sum()"
   ]
  },
  {
   "cell_type": "code",
   "execution_count": null,
   "id": "9b64a96d-cab4-480c-8848-47c6db7893aa",
   "metadata": {},
   "outputs": [],
   "source": [
    "for box in puz.instructions:\n",
    "    puz.galaxy[\n",
    "        box.xmin : box.xmax, box.ymin : box.ymax, box.zmin : box.zmax\n",
    "    ] = box.toggle\n",
    "\n",
    "puz.galaxy.ravel().sum()"
   ]
  },
  {
   "cell_type": "code",
   "execution_count": 21,
   "id": "9078d110-8499-45b9-9fb8-0a364bc771ef",
   "metadata": {},
   "outputs": [
    {
     "data": {
      "text/plain": [
       "'2,758,514,936,282,235'"
      ]
     },
     "execution_count": 21,
     "metadata": {},
     "output_type": "execute_result"
    }
   ],
   "source": [
    "f\"{2758514936282235:,}\""
   ]
  },
  {
   "cell_type": "code",
   "execution_count": null,
   "id": "dc835c61-4193-40e9-aed1-4ace9f71da4d",
   "metadata": {},
   "outputs": [],
   "source": []
  },
  {
   "cell_type": "code",
   "execution_count": null,
   "id": "011edae3-4272-431a-99e6-f704cf0bfeea",
   "metadata": {},
   "outputs": [],
   "source": [
    "puz.part_1()"
   ]
  },
  {
   "cell_type": "code",
   "execution_count": null,
   "id": "0c881d5f-b5e2-4ff7-b343-a69870cfd81f",
   "metadata": {},
   "outputs": [],
   "source": [
    "puz.part_2()"
   ]
  },
  {
   "cell_type": "markdown",
   "id": "d5dafc24-d3c5-4e49-986e-1f7c61371142",
   "metadata": {},
   "source": [
    "## Black format my final answer"
   ]
  },
  {
   "cell_type": "code",
   "execution_count": null,
   "id": "e2a7f23f-8dbf-4bd5-b0f7-91e245dcb340",
   "metadata": {},
   "outputs": [],
   "source": [
    "dir_names = [\"day\"+str(x) for x in range(15, 26)]\n",
    "dir_names"
   ]
  },
  {
   "cell_type": "code",
   "execution_count": null,
   "id": "28ce4b19-9ae5-40d4-8c65-e6afd3fdab73",
   "metadata": {},
   "outputs": [],
   "source": [
    "from dataclasses import dataclass, field\n",
    "\n",
    "\n",
    "@dataclass\n",
    "class Cube:\n",
    "    raw: str\n",
    "    xmin: int = None\n",
    "    xmax: int = None\n",
    "    ymin: int = None\n",
    "    ymax: int = None\n",
    "    zmin: int = None\n",
    "    zmax: int = None\n",
    "    toggle: bool = None\n",
    "\n",
    "    def __post_init__(self):\n",
    "        row = self.raw\n",
    "        toggle, other = row.split(\" \")\n",
    "        xs, ys, zs = other.split(\",\")\n",
    "        cube = []\n",
    "        for bounds in [xs, ys, zs]:\n",
    "            low, hi = bounds.split(\"..\")\n",
    "            low = int(low[2:])\n",
    "            hi = int(hi)\n",
    "            cube += [low, hi]\n",
    "\n",
    "        toggle = True if toggle == \"on\" else False\n",
    "\n",
    "        self.xmin, self.xmax, self.ymin, self.ymax, self.zmin, self.zmax = cube\n",
    "        self.toggle = toggle\n",
    "        return\n",
    "\n",
    "    def __repr__(self):\n",
    "        xs = f\"x=[{self.xmin}: {self.xmax}], \"\n",
    "        ys = f\"y=[{self.ymin}: {self.ymax}], \"\n",
    "        zs = f\"z=[{self.zmin}: {self.zmax}])\"\n",
    "        return \"\".join([\"Cube(\", xs, ys, zs])"
   ]
  },
  {
   "cell_type": "code",
   "execution_count": null,
   "id": "f40fc80c-e7ee-4f21-ada1-7edabeba05e4",
   "metadata": {},
   "outputs": [],
   "source": [
    "from pathlib import Path\n",
    "\n",
    "p = Path(\"..\").resolve()\n",
    "\n",
    "source = Path().glob(\"*.*\")\n",
    "source = list(x for x in source if \"checkpoints\" not in str(x))\n",
    "print(source)\n",
    "\n",
    "# for dirname in dir_names:\n",
    "#     new_folder = p / dirname\n",
    "#     new_folder.mkdir(parents=True)\n",
    "    for file in source:\n",
    "        shutil.copy(str(file), )\n",
    "    "
   ]
  },
  {
   "cell_type": "code",
   "execution_count": null,
   "id": "55ceb89a-0d41-436f-9b85-41cadd467708",
   "metadata": {},
   "outputs": [],
   "source": []
  }
 ],
 "metadata": {
  "kernelspec": {
   "display_name": "Python 3 (ipykernel)",
   "language": "python",
   "name": "python3"
  },
  "language_info": {
   "codemirror_mode": {
    "name": "ipython",
    "version": 3
   },
   "file_extension": ".py",
   "mimetype": "text/x-python",
   "name": "python",
   "nbconvert_exporter": "python",
   "pygments_lexer": "ipython3",
   "version": "3.10.0"
  }
 },
 "nbformat": 4,
 "nbformat_minor": 5
}
