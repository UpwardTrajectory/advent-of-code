{
 "cells": [
  {
   "cell_type": "code",
   "execution_count": 1,
   "id": "7d5c1c53-6cbe-4c53-93d3-3dc5ba5c91af",
   "metadata": {},
   "outputs": [],
   "source": [
    "%load_ext lab_black\n",
    "%load_ext autoreload\n",
    "%autoreload 2"
   ]
  },
  {
   "cell_type": "code",
   "execution_count": 2,
   "id": "cc1a022d-5e8b-4697-8940-71bb72f90f38",
   "metadata": {},
   "outputs": [],
   "source": [
    "from pathlib import Path\n",
    "import numpy as np\n",
    "from puzzle import Puzzle, Scanner, plot"
   ]
  },
  {
   "cell_type": "code",
   "execution_count": 70,
   "id": "4ba28785-e658-4f10-a32c-cf55ebd589b6",
   "metadata": {},
   "outputs": [],
   "source": [
    "puz = Puzzle(\"tests.txt\")\n",
    "\n",
    "s = puz.scanners[0]\n",
    "s1 = puz.scanners[1]\n",
    "s2 = puz.scanners[2]\n",
    "s3 = puz.scanners[3]\n",
    "s4 = puz.scanners[4]"
   ]
  },
  {
   "cell_type": "code",
   "execution_count": 71,
   "id": "cb062e18-8c0b-4de8-9734-b242179ec8f9",
   "metadata": {},
   "outputs": [
    {
     "data": {
      "text/plain": [
       "(25, 3)"
      ]
     },
     "execution_count": 71,
     "metadata": {},
     "output_type": "execute_result"
    }
   ],
   "source": [
    "s.beacons.shape"
   ]
  },
  {
   "cell_type": "code",
   "execution_count": 113,
   "id": "7eb7f899-addb-4f38-a425-f3aa3a4d8c38",
   "metadata": {},
   "outputs": [
    {
     "name": "stdout",
     "output_type": "stream",
     "text": [
      "[-195.19396002   31.10102895  -18.95258948]\n"
     ]
    },
    {
     "data": {
      "text/plain": [
       "array([[  387,  -601,  -211],\n",
       "       [  331,  -473,   -95],\n",
       "       [  484,  -118,   744],\n",
       "       [ -547, -1033,   131],\n",
       "       [ -187,   -23,    60],\n",
       "       [ -689, -1012,   150],\n",
       "       [ -700,  1060,   129],\n",
       "       [   28,  -290,  -862],\n",
       "       [ -520,    67,   853],\n",
       "       [  128,  -155,  -854],\n",
       "       [  436,  -565,  -192],\n",
       "       [-1076,    22,  -734],\n",
       "       [ -545,  -894,   119],\n",
       "       [ -852,  1077,    74],\n",
       "       [ -965,  -101,  -648],\n",
       "       [ -434,   127,   790],\n",
       "       [  272,   825,  -308],\n",
       "       [ -889,     2,  -721],\n",
       "       [  400,   -84,   825],\n",
       "       [ -474,   101,   778],\n",
       "       [   45,  -107,  -830],\n",
       "       [ -774,  1206,    13],\n",
       "       [  391,   987,  -245],\n",
       "       [  373,   826,  -168],\n",
       "       [  516,   -76,   727]])"
      ]
     },
     "execution_count": 113,
     "metadata": {},
     "output_type": "execute_result"
    }
   ],
   "source": [
    "def orient_to(scnzor, other):\n",
    "    \"\"\"Assumes other has already been centered w/ other.to_origin()\"\"\"\n",
    "    scnzor.to_origin()\n",
    "\n",
    "    am = scnzor.beacons\n",
    "    bm = other.beacons\n",
    "    H = am.T @ bm\n",
    "    # print(H.shape)\n",
    "    U, S, Vt = np.linalg.svd(H)\n",
    "    # U = U  # .astype(int)\n",
    "    # Vt = Vt  # .astype(int)\n",
    "\n",
    "    d = np.sign(np.linalg.det(Vt.T @ U.T))\n",
    "    correction = np.array([[1, 0, 0], [0, 1, 0], [0, 0, d]])\n",
    "\n",
    "    R = Vt.T @ correction @ U.T\n",
    "\n",
    "    t = -R @ scnzor.centroid + other.centroid\n",
    "    print(t)\n",
    "    return (R @ scnzor.beacons.T + t.reshape(3, -1)).astype(int).T\n",
    "\n",
    "\n",
    "new_s1 = orient_to(s1, s)\n",
    "\n",
    "new_s1"
   ]
  },
  {
   "cell_type": "code",
   "execution_count": 108,
   "id": "e2b4ff56-0352-4860-bbf1-9771f6270a78",
   "metadata": {},
   "outputs": [
    {
     "data": {
      "text/plain": [
       "set()"
      ]
     },
     "execution_count": 108,
     "metadata": {},
     "output_type": "execute_result"
    }
   ],
   "source": [
    "def find_overlap(arr1, arr2):\n",
    "    s = set(tuple(map(tuple, arr1)))\n",
    "    othr = set(tuple(map(tuple, arr2)))\n",
    "    return s & othr\n",
    "\n",
    "\n",
    "find_overlap(s.beacons, new_s1)"
   ]
  },
  {
   "cell_type": "code",
   "execution_count": 90,
   "id": "b19e1d7c-84d6-4cbe-af97-13974e4f1d7c",
   "metadata": {},
   "outputs": [
    {
     "data": {
      "text/plain": [
       "set()"
      ]
     },
     "execution_count": 90,
     "metadata": {},
     "output_type": "execute_result"
    }
   ],
   "source": [
    "in_s = set(tuple(map(tuple, s.beacons)))\n",
    "in_s1 = set(tuple(map(tuple, s1.beacons)))\n",
    "in_s & in_s1"
   ]
  },
  {
   "cell_type": "code",
   "execution_count": 88,
   "id": "718fdd33-0963-45fc-b426-aec870e1e216",
   "metadata": {},
   "outputs": [
    {
     "data": {
      "text/plain": [
       "array([[ 479, -584, -868],\n",
       "       [ 603, -639,  442],\n",
       "       [-763,  595,  767],\n",
       "       [ 465, -671, -760],\n",
       "       [-462, -819, -425],\n",
       "       [-410, -353,  380],\n",
       "       [-270, -307,  414],\n",
       "       [-586, -812, -542],\n",
       "       [-801,  653,  796],\n",
       "       [-543, -820, -588],\n",
       "       [ 628,  349, -534],\n",
       "       [ 549,  584,  700],\n",
       "       [-372, -325,  351],\n",
       "       [-509,  872, -524],\n",
       "       [ 619, -623, -857],\n",
       "       [ 639,  396, -444],\n",
       "       [ 530,  733,  761],\n",
       "       [-817,  528,  717],\n",
       "       [-614,  849, -497],\n",
       "       [ 498, -697,  467],\n",
       "       [  82,  -29,  -38],\n",
       "       [ 705,  323, -346],\n",
       "       [ 518,  584,  695],\n",
       "       [-714,  904, -518],\n",
       "       [ 534, -703,  434]])"
      ]
     },
     "execution_count": 88,
     "metadata": {},
     "output_type": "execute_result"
    }
   ],
   "source": [
    "s.beacons  # + s.centroid"
   ]
  },
  {
   "cell_type": "code",
   "execution_count": null,
   "id": "89f7fdff-8834-499f-a575-a0c172773dbf",
   "metadata": {},
   "outputs": [],
   "source": []
  },
  {
   "cell_type": "code",
   "execution_count": 8,
   "id": "00e3e5e4-334a-4ba3-b7a0-03593be78445",
   "metadata": {},
   "outputs": [
    {
     "data": {
      "text/plain": [
       "array([[ 686,  422,  578],\n",
       "       [ 605,  423,  415],\n",
       "       [ 515,  917, -361],\n",
       "       [-336,  658,  858],\n",
       "       [  95,  138,   22],\n",
       "       [-476,  619,  847],\n",
       "       [-340, -569, -846],\n",
       "       [ 567, -361,  727],\n",
       "       [-460,  603, -452],\n",
       "       [ 669, -402,  600],\n",
       "       [ 729,  430,  532],\n",
       "       [-500, -761,  534],\n",
       "       [-322,  571,  750],\n",
       "       [-466, -666, -811],\n",
       "       [-429, -592,  574],\n",
       "       [-355,  545, -477],\n",
       "       [ 703, -491, -529],\n",
       "       [-328, -685,  520],\n",
       "       [ 413,  935, -424],\n",
       "       [-391,  539, -444],\n",
       "       [ 586, -435,  557],\n",
       "       [-364, -763, -893],\n",
       "       [ 807, -499, -711],\n",
       "       [ 755, -354, -619],\n",
       "       [ 553,  889, -390]])"
      ]
     },
     "execution_count": 8,
     "metadata": {},
     "output_type": "execute_result"
    }
   ],
   "source": [
    "s1.to_origin()\n",
    "s1.beacons + s1.centroid"
   ]
  },
  {
   "cell_type": "code",
   "execution_count": 9,
   "id": "afdc2493-b7e6-42ce-ba32-70b01a0a00a1",
   "metadata": {},
   "outputs": [
    {
     "data": {
      "text/plain": [
       "array([[ 479, -584, -868],\n",
       "       [ 603, -639,  442],\n",
       "       [-763,  595,  767],\n",
       "       [ 465, -671, -760],\n",
       "       [-462, -819, -425],\n",
       "       [-410, -353,  380],\n",
       "       [-270, -307,  414],\n",
       "       [-586, -812, -542],\n",
       "       [-801,  653,  796],\n",
       "       [-543, -820, -588],\n",
       "       [ 628,  349, -534],\n",
       "       [ 549,  584,  700],\n",
       "       [-372, -325,  351],\n",
       "       [-509,  872, -524],\n",
       "       [ 619, -623, -857],\n",
       "       [ 639,  396, -444],\n",
       "       [ 530,  733,  761],\n",
       "       [-817,  528,  717],\n",
       "       [-614,  849, -497],\n",
       "       [ 498, -697,  467],\n",
       "       [  82,  -29,  -38],\n",
       "       [ 705,  323, -346],\n",
       "       [ 518,  584,  695],\n",
       "       [-714,  904, -518],\n",
       "       [ 534, -703,  434]])"
      ]
     },
     "execution_count": 9,
     "metadata": {},
     "output_type": "execute_result"
    }
   ],
   "source": [
    "s.beacons"
   ]
  },
  {
   "cell_type": "code",
   "execution_count": 10,
   "id": "35db998c-80a1-4794-89a3-5cb2ef91713c",
   "metadata": {},
   "outputs": [
    {
     "data": {
      "text/plain": [
       "array([[ 570,  378,  556],\n",
       "       [ 489,  379,  393],\n",
       "       [ 399,  873, -383],\n",
       "       [-452,  614,  836],\n",
       "       [ -21,   94,    0],\n",
       "       [-592,  575,  825],\n",
       "       [-456, -613, -868],\n",
       "       [ 451, -405,  705],\n",
       "       [-576,  559, -474],\n",
       "       [ 553, -446,  578],\n",
       "       [ 613,  386,  510],\n",
       "       [-616, -805,  512],\n",
       "       [-438,  527,  728],\n",
       "       [-582, -710, -833],\n",
       "       [-545, -636,  552],\n",
       "       [-471,  501, -499],\n",
       "       [ 587, -535, -551],\n",
       "       [-444, -729,  498],\n",
       "       [ 297,  891, -446],\n",
       "       [-507,  495, -466],\n",
       "       [ 470, -479,  535],\n",
       "       [-480, -807, -915],\n",
       "       [ 691, -543, -733],\n",
       "       [ 639, -398, -641],\n",
       "       [ 437,  845, -412]])"
      ]
     },
     "execution_count": 10,
     "metadata": {},
     "output_type": "execute_result"
    }
   ],
   "source": [
    "s1.beacons"
   ]
  },
  {
   "cell_type": "code",
   "execution_count": null,
   "id": "86ec37f4-c002-4f44-99c8-2ee769cde1c3",
   "metadata": {},
   "outputs": [],
   "source": [
    "s1.centroid"
   ]
  },
  {
   "cell_type": "code",
   "execution_count": null,
   "id": "31f3339c-8270-4bd7-9dfc-431b7f6601a7",
   "metadata": {
    "tags": []
   },
   "outputs": [],
   "source": [
    "#!/usr/bin/python\n",
    "\n",
    "import numpy as np\n",
    "\n",
    "# Input: expects 3xN matrix of points\n",
    "# Returns R,t\n",
    "# R = 3x3 rotation matrix\n",
    "# t = 3x1 column vector\n",
    "\n",
    "\n",
    "def rigid_transform_3D(A, B):\n",
    "    \"\"\"Copied from:\n",
    "    https://github.com/nghiaho12/rigid_transform_3D/blob/master/rigid_transform_3D.py\n",
    "\n",
    "    which was first discovered @ this blog:\n",
    "    http://nghiaho.com/?page_id=671\n",
    "    \"\"\"\n",
    "    assert A.shape == B.shape\n",
    "\n",
    "    num_rows, num_cols = A.shape\n",
    "    if num_rows != 3:\n",
    "        raise Exception(f\"matrix A is not 3xN, it is {num_rows}x{num_cols}\")\n",
    "\n",
    "    num_rows, num_cols = B.shape\n",
    "    if num_rows != 3:\n",
    "        raise Exception(f\"matrix B is not 3xN, it is {num_rows}x{num_cols}\")\n",
    "\n",
    "    # find mean column wise\n",
    "    centroid_A = np.mean(A, axis=1).astype(int).reshape(-1, 1)\n",
    "    centroid_B = np.mean(B, axis=1).astype(int).reshape(-1, 1)\n",
    "\n",
    "    # re-center on (0, 0, 0)\n",
    "    Am = A - centroid_A\n",
    "    Bm = B - centroid_B\n",
    "\n",
    "    H = Am @ Bm.T\n",
    "\n",
    "    # find rotation\n",
    "    U, S, Vt = np.linalg.svd(H)\n",
    "    Vt = Vt.astype(int)\n",
    "    U = U.astype(int)\n",
    "    R = Vt.T @ U.T\n",
    "\n",
    "    # special reflection case\n",
    "    if np.linalg.det(R) < 0:\n",
    "        # print(\"det(R) < R, reflection detected!, correcting for it ...\")\n",
    "        Vt[2, :] *= -1\n",
    "        R = Vt.T @ U.T\n",
    "\n",
    "    t = -R @ centroid_A + centroid_B\n",
    "\n",
    "    return R, t\n",
    "\n",
    "\n",
    "A = s.beacons.T\n",
    "B = s1.beacons.T\n",
    "\n",
    "rot, shift = rigid_transform_3D(A, B)\n",
    "tmp = rot @ A + B\n",
    "tmp.T == B.T"
   ]
  },
  {
   "cell_type": "code",
   "execution_count": null,
   "id": "028e1632-25ac-4cc9-b275-2649fea9bce4",
   "metadata": {},
   "outputs": [],
   "source": [
    "control = puz.scanners[0].beacons.T\n",
    "\n",
    "transforms = {}\n",
    "\n",
    "for scnr_num in range(1, len(puz.scanners)+1):\n",
    "    other = puz.scanners[scnr_num].beacons.T\n",
    "    transforms[(0, scnr_num)] = rigid_transform_3D(control, other)\n",
    "    \n",
    "transforms"
   ]
  },
  {
   "cell_type": "code",
   "execution_count": null,
   "id": "52f941b6-70ed-4c1b-8fee-84d0a3c1d858",
   "metadata": {},
   "outputs": [],
   "source": [
    "shift"
   ]
  },
  {
   "cell_type": "code",
   "execution_count": null,
   "id": "e1def941-2207-40ec-9ab4-58c4921535bd",
   "metadata": {},
   "outputs": [],
   "source": [
    "np.mean(A, axis=1).astype(int)"
   ]
  },
  {
   "cell_type": "code",
   "execution_count": null,
   "id": "0b1a0706-1ec6-4939-a6c6-4bd4c8015a45",
   "metadata": {},
   "outputs": [],
   "source": []
  },
  {
   "cell_type": "code",
   "execution_count": null,
   "id": "bb6f3be4-a7aa-43e5-9e6b-4e170331189c",
   "metadata": {},
   "outputs": [],
   "source": [
    "control = puz.scanners[0]\n",
    "\n",
    "for scnr in puz.scanners.values():\n",
    "    scnr.orient_to(control)"
   ]
  },
  {
   "cell_type": "code",
   "execution_count": null,
   "id": "17f3c163-37b7-4b56-b385-183eae95dbcd",
   "metadata": {},
   "outputs": [],
   "source": [
    "sum([scnr.done for scnr in puz.scanners.values()])"
   ]
  },
  {
   "cell_type": "code",
   "execution_count": null,
   "id": "cc013dd6-c46e-4188-bbfb-2cb25df3656a",
   "metadata": {},
   "outputs": [],
   "source": []
  },
  {
   "cell_type": "code",
   "execution_count": null,
   "id": "3fc53871-42e8-4b00-ba8c-50da96446e47",
   "metadata": {},
   "outputs": [],
   "source": [
    "s.reset().beacons"
   ]
  },
  {
   "cell_type": "code",
   "execution_count": null,
   "id": "8b77517f-a4ef-4d34-9189-1b6bfbce8165",
   "metadata": {},
   "outputs": [],
   "source": [
    "\n",
    "s1.flip(\"x\").rot90(\"x\").flip(\"y\")\n",
    "s1.beacons"
   ]
  },
  {
   "cell_type": "code",
   "execution_count": null,
   "id": "9c2ef751-b0d0-4a6e-a685-d3e7d08df995",
   "metadata": {},
   "outputs": [],
   "source": [
    "set(s.hashable)"
   ]
  },
  {
   "cell_type": "code",
   "execution_count": null,
   "id": "8b6d331e-62fa-4fe8-bee6-42660cabaf0d",
   "metadata": {},
   "outputs": [],
   "source": [
    "seen = set()\n",
    "seen.add(s.hashable)\n",
    "seen"
   ]
  },
  {
   "cell_type": "code",
   "execution_count": null,
   "id": "616b1ac4-b65d-464d-bf82-e60d4b71ec5b",
   "metadata": {},
   "outputs": [],
   "source": [
    "s == s1"
   ]
  },
  {
   "cell_type": "code",
   "execution_count": null,
   "id": "06f2b793-827e-41fc-90a9-52670de2826f",
   "metadata": {},
   "outputs": [],
   "source": [
    "seen = s1.orient_to(s)\n",
    "len(seen)"
   ]
  },
  {
   "cell_type": "code",
   "execution_count": null,
   "id": "1dbe4009-a229-49e6-a1e8-062800be2318",
   "metadata": {},
   "outputs": [],
   "source": [
    "s1.flip(\"y\")"
   ]
  },
  {
   "cell_type": "code",
   "execution_count": null,
   "id": "ba72026d-35e5-465f-b42b-b502d1b30dd7",
   "metadata": {},
   "outputs": [],
   "source": [
    "plot(s.beacons)"
   ]
  },
  {
   "cell_type": "code",
   "execution_count": null,
   "id": "2e51422d-673b-4d3d-85bb-748b2216a479",
   "metadata": {},
   "outputs": [],
   "source": [
    "set(s1.hashable)"
   ]
  },
  {
   "cell_type": "code",
   "execution_count": null,
   "id": "f6d6e263-9297-4239-8ac2-7f20e44da7ed",
   "metadata": {},
   "outputs": [],
   "source": [
    "s.orient_to(s1)"
   ]
  },
  {
   "cell_type": "code",
   "execution_count": null,
   "id": "ad6e9e36-4a6b-4351-8add-9c314e0d8b84",
   "metadata": {},
   "outputs": [],
   "source": [
    "seen = set()\n",
    "duplicated = []\n",
    "i = 0\n",
    "for axis in \"xyz\":\n",
    "    for rot in [0, 1, 2, 3]:\n",
    "        new = s.rot90(axis, rot)\n",
    "        hashed = tuple(map(tuple, new))\n",
    "        if hashed in seen:\n",
    "            duplicated.append(new)\n",
    "        seen.add(hashed)\n",
    "        p = plot(new)\n",
    "        p.title(f\"{i}: {axis} : {rot * 90}\")\n",
    "        p.show()\n",
    "        i += 1\n",
    "    s.beacons = s.flip(axis)\n",
    "    for rot in [0, 1, 2, 3]:\n",
    "        new = s.rot90(axis, rot)\n",
    "        hashed = tuple(map(tuple, new))\n",
    "        if hashed in seen:\n",
    "            duplicated.append(new)\n",
    "        seen.add(hashed)\n",
    "        p = plot(new)\n",
    "        p.title(f\"{i}: Flipped {axis} : {rot * 90}\")\n",
    "        p.show()\n",
    "        i += 1\n",
    "    s.beacons = s.flip(axis)\n",
    "\n",
    "len(seen)"
   ]
  },
  {
   "cell_type": "code",
   "execution_count": null,
   "id": "f11c9b74-1176-4e4a-886a-b3002d0bc396",
   "metadata": {},
   "outputs": [],
   "source": [
    "for arr in duplicated:\n",
    "    plot(arr)"
   ]
  },
  {
   "cell_type": "code",
   "execution_count": null,
   "id": "55f2d864-343b-4519-bcab-1a96d03a9fb5",
   "metadata": {},
   "outputs": [],
   "source": [
    "s.rot90(\"x\")"
   ]
  },
  {
   "cell_type": "code",
   "execution_count": null,
   "id": "0fae42d6-6092-43e8-b3a9-c9d9296f01c6",
   "metadata": {},
   "outputs": [],
   "source": [
    "puz.scanners[0].flip(\"x\")\n",
    "# puz.scanners[0] == puz.scanners[1]"
   ]
  },
  {
   "cell_type": "code",
   "execution_count": null,
   "id": "74a15384-55d7-49e0-be43-033e63bcc01b",
   "metadata": {},
   "outputs": [],
   "source": [
    "puz.scanners[0].beacons"
   ]
  },
  {
   "cell_type": "code",
   "execution_count": null,
   "id": "80e1d10e-925d-4df0-bef6-e342a04e1681",
   "metadata": {},
   "outputs": [],
   "source": [
    "scanner = puz.scanners[0]\n",
    "scanner.beacons"
   ]
  },
  {
   "cell_type": "code",
   "execution_count": null,
   "id": "72adb4b5-841c-4f5d-b41c-dc5886722cfe",
   "metadata": {},
   "outputs": [],
   "source": [
    "scanner.rot90(\"x\")"
   ]
  },
  {
   "cell_type": "code",
   "execution_count": null,
   "id": "f97a87a9-7c7e-418e-94ba-300eedbe94af",
   "metadata": {},
   "outputs": [],
   "source": [
    "scanner.flip(\"z\")"
   ]
  },
  {
   "cell_type": "code",
   "execution_count": null,
   "id": "bd290224-19f1-488b-9535-45bbc2800e18",
   "metadata": {},
   "outputs": [],
   "source": []
  },
  {
   "cell_type": "code",
   "execution_count": null,
   "id": "011edae3-4272-431a-99e6-f704cf0bfeea",
   "metadata": {},
   "outputs": [],
   "source": [
    "puz.part_1()"
   ]
  },
  {
   "cell_type": "code",
   "execution_count": null,
   "id": "0c881d5f-b5e2-4ff7-b343-a69870cfd81f",
   "metadata": {},
   "outputs": [],
   "source": [
    "puz.part_2()"
   ]
  },
  {
   "cell_type": "markdown",
   "id": "d5dafc24-d3c5-4e49-986e-1f7c61371142",
   "metadata": {},
   "source": [
    "## Black format my final answer"
   ]
  },
  {
   "cell_type": "code",
   "execution_count": null,
   "id": "55ceb89a-0d41-436f-9b85-41cadd467708",
   "metadata": {},
   "outputs": [],
   "source": []
  }
 ],
 "metadata": {
  "kernelspec": {
   "display_name": "Python 3 (ipykernel)",
   "language": "python",
   "name": "python3"
  },
  "language_info": {
   "codemirror_mode": {
    "name": "ipython",
    "version": 3
   },
   "file_extension": ".py",
   "mimetype": "text/x-python",
   "name": "python",
   "nbconvert_exporter": "python",
   "pygments_lexer": "ipython3",
   "version": "3.10.0"
  }
 },
 "nbformat": 4,
 "nbformat_minor": 5
}
