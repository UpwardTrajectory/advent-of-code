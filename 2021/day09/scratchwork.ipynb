{
 "cells": [
  {
   "cell_type": "code",
   "execution_count": 1,
   "id": "7d5c1c53-6cbe-4c53-93d3-3dc5ba5c91af",
   "metadata": {},
   "outputs": [],
   "source": [
    "%load_ext lab_black\n",
    "%load_ext autoreload\n",
    "%autoreload 2"
   ]
  },
  {
   "cell_type": "code",
   "execution_count": 25,
   "id": "cc1a022d-5e8b-4697-8940-71bb72f90f38",
   "metadata": {},
   "outputs": [],
   "source": [
    "from pathlib import Path\n",
    "import numpy as np\n",
    "from puzzle import Point, Puzzle"
   ]
  },
  {
   "cell_type": "code",
   "execution_count": 65,
   "id": "97b12a2b-61ae-49a5-b172-7d930745f80b",
   "metadata": {},
   "outputs": [
    {
     "data": {
      "text/plain": [
       "504"
      ]
     },
     "execution_count": 65,
     "metadata": {},
     "output_type": "execute_result"
    }
   ],
   "source": [
    "puz = Puzzle(\"inputs.txt\")\n",
    "puz.part_1()"
   ]
  },
  {
   "cell_type": "code",
   "execution_count": 66,
   "id": "4ecadcf9-f1e3-44bc-84a0-98f816e9c2b1",
   "metadata": {},
   "outputs": [
    {
     "data": {
      "text/plain": [
       "1558722"
      ]
     },
     "execution_count": 66,
     "metadata": {},
     "output_type": "execute_result"
    }
   ],
   "source": [
    "puz.part_2()"
   ]
  },
  {
   "cell_type": "code",
   "execution_count": 22,
   "id": "1a146181-e20a-4259-afcf-7904f06743c1",
   "metadata": {},
   "outputs": [
    {
     "data": {
      "text/plain": [
       "Point(row=4, col=9)"
      ]
     },
     "execution_count": 22,
     "metadata": {},
     "output_type": "execute_result"
    }
   ],
   "source": [
    "fname = \"tests.txt\"\n",
    "raw = Path(fname).open().readlines()\n",
    "grid = np.array([list(row.strip()) for row in raw]).astype(int)\n",
    "\n",
    "\n",
    "low_pts = []\n",
    "\n",
    "for rownum, row in enumerate(grid):\n",
    "    for colnum, val in enumerate(row):\n",
    "        pt = Point(rownum, colnum, grid)\n",
    "        if pt.is_lowest():\n",
    "            low_pts.append(pt)\n",
    "pt"
   ]
  },
  {
   "cell_type": "code",
   "execution_count": 57,
   "id": "f48c9a12-d485-4971-9122-ff151f490ea8",
   "metadata": {},
   "outputs": [
    {
     "data": {
      "text/plain": [
       "array([[1, 1, 0, 0, 0, 1, 1, 1, 1, 1],\n",
       "       [1, 0, 1, 1, 1, 0, 1, 0, 1, 1],\n",
       "       [0, 1, 1, 1, 1, 1, 0, 1, 0, 1],\n",
       "       [1, 1, 1, 1, 1, 0, 1, 1, 1, 0],\n",
       "       [0, 1, 0, 0, 0, 1, 1, 1, 1, 1]])"
      ]
     },
     "execution_count": 57,
     "metadata": {},
     "output_type": "execute_result"
    }
   ],
   "source": [
    "basins = np.where(grid == 9, 0, 1)\n",
    "basins"
   ]
  },
  {
   "cell_type": "code",
   "execution_count": 60,
   "id": "5d68164e-df14-4289-ad27-0b67ff6fcad6",
   "metadata": {},
   "outputs": [
    {
     "data": {
      "text/plain": [
       "array([ 0.,  3.,  9., 14.,  9.])"
      ]
     },
     "execution_count": 60,
     "metadata": {},
     "output_type": "execute_result"
    }
   ],
   "source": [
    "from scipy.ndimage import measurements\n",
    "\n",
    "lw, num = measurements.label(basins)\n",
    "area = measurements.sum(basins, lw, index=np.arange(lw.max() + 1))\n",
    "area"
   ]
  },
  {
   "cell_type": "markdown",
   "id": "d5dafc24-d3c5-4e49-986e-1f7c61371142",
   "metadata": {},
   "source": [
    "## Black format my final answer"
   ]
  },
  {
   "cell_type": "code",
   "execution_count": 67,
   "id": "e2a7f23f-8dbf-4bd5-b0f7-91e245dcb340",
   "metadata": {},
   "outputs": [
    {
     "name": "stdout",
     "output_type": "stream",
     "text": [
      "All tests passed.\n",
      "Part 1: 504\n",
      "Part 2: 1558722\n"
     ]
    }
   ],
   "source": [
    "from pathlib import Path\n",
    "from dataclasses import dataclass, field\n",
    "import numpy as np\n",
    "from scipy.ndimage import measurements\n",
    "\n",
    "\n",
    "T1_ANS = 15\n",
    "T2_ANS = 1134\n",
    "\n",
    "\n",
    "@dataclass\n",
    "class Point:\n",
    "    row: int\n",
    "    col: int\n",
    "    grid: np.array = field(repr=False)\n",
    "\n",
    "    @property\n",
    "    def value(self):\n",
    "        return self.grid[self.row, self.col]\n",
    "\n",
    "    @property\n",
    "    def lt_up(self):\n",
    "        if self.row != 0:\n",
    "            return self.value < self.grid[self.row - 1, self.col]\n",
    "        return True\n",
    "\n",
    "    @property\n",
    "    def lt_down(self):\n",
    "        if self.row != (len(self.grid) - 1):\n",
    "            return self.value < self.grid[self.row + 1, self.col]\n",
    "        return True\n",
    "\n",
    "    @property\n",
    "    def lt_left(self):\n",
    "        if self.col != 0:\n",
    "            return self.value < self.grid[self.row, self.col - 1]\n",
    "        return True\n",
    "\n",
    "    @property\n",
    "    def lt_right(self):\n",
    "        if self.col != (len(self.grid[0]) - 1):\n",
    "            return self.value < self.grid[self.row, self.col + 1]\n",
    "        return True\n",
    "\n",
    "    def is_lowest(self):\n",
    "        return all([self.lt_up, self.lt_down, self.lt_left, self.lt_right])\n",
    "\n",
    "\n",
    "@dataclass\n",
    "class Puzzle:\n",
    "    fname: str\n",
    "    grid: np.array = None\n",
    "\n",
    "    def __post_init__(self):\n",
    "        raw = Path(self.fname).open().readlines()\n",
    "        self.grid = np.array([list(row.strip()) for row in raw]).astype(int)\n",
    "\n",
    "    def find_low_pts(self):\n",
    "        low_pts = []\n",
    "\n",
    "        for rownum, row in enumerate(self.grid):\n",
    "            for colnum, val in enumerate(row):\n",
    "                pt = Point(rownum, colnum, self.grid)\n",
    "                if pt.is_lowest():\n",
    "                    low_pts.append(pt)\n",
    "\n",
    "        return low_pts\n",
    "\n",
    "    def part_1(self):\n",
    "        low_pts = self.find_low_pts()\n",
    "        return sum([pt.value + 1 for pt in low_pts])\n",
    "\n",
    "    @property\n",
    "    def basins(self):\n",
    "        return np.where(self.grid == 9, 0, 1)\n",
    "\n",
    "    def basin_areas(self):\n",
    "        lw, num = measurements.label(self.basins)\n",
    "        areas = measurements.sum(self.basins, lw, index=np.arange(lw.max() + 1))\n",
    "        return areas.astype(int)\n",
    "\n",
    "    def part_2(self):\n",
    "        areas = self.basin_areas()\n",
    "        top_3 = sorted(areas)[-3:]\n",
    "        return np.product(top_3)\n",
    "\n",
    "\n",
    "def run_tests(p1_ans=T1_ANS, p2_ans=T2_ANS, fname=\"tests.txt\"):\n",
    "    puz = Puzzle(fname)\n",
    "    t1 = puz.part_1()\n",
    "    assert t1 == p1_ans, f\"Test 1 failed. Got {t1} instead of {p1_ans}\"\n",
    "\n",
    "    if p2_ans is not None:\n",
    "        t2 = puz.part_2()\n",
    "        assert t2 == p2_ans, f\"Test 2 failed. Got {t2} instead of {p2_ans}\"\n",
    "\n",
    "    print(\"All tests passed.\")\n",
    "    return\n",
    "\n",
    "\n",
    "if __name__ == \"__main__\":\n",
    "    run_tests()\n",
    "\n",
    "    puz = Puzzle(\"inputs.txt\")\n",
    "\n",
    "    p1 = puz.part_1()\n",
    "    print(\"Part 1:\", p1)\n",
    "\n",
    "    if T2_ANS is not None:\n",
    "        p2 = puz.part_2()\n",
    "        print(\"Part 2:\", p2)"
   ]
  },
  {
   "cell_type": "code",
   "execution_count": null,
   "id": "4a0c23fc-ea30-431d-98e5-a997bdcfcab4",
   "metadata": {},
   "outputs": [],
   "source": []
  }
 ],
 "metadata": {
  "kernelspec": {
   "display_name": "Python 3",
   "language": "python",
   "name": "python3"
  },
  "language_info": {
   "codemirror_mode": {
    "name": "ipython",
    "version": 3
   },
   "file_extension": ".py",
   "mimetype": "text/x-python",
   "name": "python",
   "nbconvert_exporter": "python",
   "pygments_lexer": "ipython3",
   "version": "3.9.5"
  }
 },
 "nbformat": 4,
 "nbformat_minor": 5
}
