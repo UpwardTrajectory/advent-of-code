{
 "cells": [
  {
   "cell_type": "code",
   "execution_count": 4,
   "id": "f6dcdc33-adf0-48f3-9a1a-5af7a2c23748",
   "metadata": {},
   "outputs": [
    {
     "data": {
      "text/plain": [
       "['day1',\n",
       " 'day2',\n",
       " 'day3',\n",
       " 'day4',\n",
       " 'day5',\n",
       " 'day6',\n",
       " 'day7',\n",
       " 'day8',\n",
       " 'day9',\n",
       " 'day10',\n",
       " 'day11',\n",
       " 'day12',\n",
       " 'day13',\n",
       " 'day14',\n",
       " 'day15',\n",
       " 'day16',\n",
       " 'day17',\n",
       " 'day18',\n",
       " 'day19',\n",
       " 'day20',\n",
       " 'day21',\n",
       " 'day22',\n",
       " 'day23',\n",
       " 'day24',\n",
       " 'day25']"
      ]
     },
     "execution_count": 4,
     "metadata": {},
     "output_type": "execute_result"
    }
   ],
   "source": [
    "from pathlib import Path\n",
    "import shutil\n",
    "\n",
    "\n",
    "p = Path(\".\").resolve()\n",
    "\n",
    "source = Path().glob(\"*.*\")\n",
    "source = list(\n",
    "    x for x in source \n",
    "    if (\"checkpoints\" not in str(x) and \"populate\" not in str(x))\n",
    ")\n",
    "\n",
    "dir_names = [\"day\" + str(x) for x in range(1, 26)]\n",
    "\n",
    "for dirname in dir_names:\n",
    "    new_folder = p / dirname\n",
    "    try:\n",
    "        new_folder.mkdir(parents=True, exist_ok=False)\n",
    "        for file in source:\n",
    "            shutil.copy(str(file), new_folder / str(file))\n",
    "    except FileExistsError:\n",
    "        print(f\"{dir_name} is already there\")\n",
    "    "
   ]
  },
  {
   "cell_type": "code",
   "execution_count": 4,
   "id": "24fc171d-38b8-4d03-b411-bc0a6770b195",
   "metadata": {},
   "outputs": [
    {
     "data": {
      "text/plain": [
       "WindowsPath('C:/Users/dakas/projects/advent-of-code/2021')"
      ]
     },
     "execution_count": 4,
     "metadata": {},
     "output_type": "execute_result"
    }
   ],
   "source": [
    "p"
   ]
  },
  {
   "cell_type": "code",
   "execution_count": null,
   "id": "2a06d9ea-3e8b-4eaa-b062-c5af7fd5210b",
   "metadata": {},
   "outputs": [],
   "source": []
  }
 ],
 "metadata": {
  "kernelspec": {
   "display_name": "Python 3 (ipykernel)",
   "language": "python",
   "name": "python3"
  },
  "language_info": {
   "codemirror_mode": {
    "name": "ipython",
    "version": 3
   },
   "file_extension": ".py",
   "mimetype": "text/x-python",
   "name": "python",
   "nbconvert_exporter": "python",
   "pygments_lexer": "ipython3",
   "version": "3.9.5"
  }
 },
 "nbformat": 4,
 "nbformat_minor": 5
}
