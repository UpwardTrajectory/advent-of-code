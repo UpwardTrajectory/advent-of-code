{
 "cells": [
  {
   "cell_type": "code",
   "execution_count": 12,
   "id": "f6dcdc33-adf0-48f3-9a1a-5af7a2c23748",
   "metadata": {},
   "outputs": [
    {
     "name": "stdout",
     "output_type": "stream",
     "text": [
      "day01 is already there\n",
      "day02 is already there\n",
      "day03 is already there\n",
      "day04 is already there\n",
      "day05 is already there\n",
      "day06 is already there\n",
      "day07 is already there\n",
      "day08 is already there\n",
      "day09 is already there\n",
      "day10 is already there\n",
      "day11 is already there\n",
      "day12 is already there\n",
      "day13 is already there\n",
      "day14 is already there\n",
      "day15 is already there\n",
      "day16 is already there\n",
      "day17 is already there\n",
      "day18 is already there\n",
      "day19 is already there\n",
      "day20 is already there\n",
      "day21 is already there\n",
      "day22 is already there\n",
      "day23 is already there\n",
      "day24 is already there\n",
      "day25 is already there\n"
     ]
    }
   ],
   "source": [
    "from pathlib import Path\n",
    "import shutil\n",
    "\n",
    "\n",
    "p = Path(\"..\").resolve()\n",
    "\n",
    "source = ['inputs.txt', 'puzzle.py', 'scratchwork.ipynb', 'tests.txt']\n",
    "\n",
    "dir_names = [\"day\" + str(x).zfill(2) for x in range(1, 26)]\n",
    "\n",
    "for dir_name in dir_names:\n",
    "    new_folder = p / dir_name\n",
    "    try:\n",
    "        new_folder.mkdir(parents=True, exist_ok=False)\n",
    "        for file in source:\n",
    "            shutil.copy(file, new_folder / str(file))\n",
    "    except FileExistsError:\n",
    "        print(f\"{dir_name} is already there\")\n",
    "    "
   ]
  },
  {
   "cell_type": "code",
   "execution_count": null,
   "id": "2a06d9ea-3e8b-4eaa-b062-c5af7fd5210b",
   "metadata": {},
   "outputs": [],
   "source": []
  }
 ],
 "metadata": {
  "kernelspec": {
   "display_name": "Python 3 (ipykernel)",
   "language": "python",
   "name": "python3"
  },
  "language_info": {
   "codemirror_mode": {
    "name": "ipython",
    "version": 3
   },
   "file_extension": ".py",
   "mimetype": "text/x-python",
   "name": "python",
   "nbconvert_exporter": "python",
   "pygments_lexer": "ipython3",
   "version": "3.9.5"
  }
 },
 "nbformat": 4,
 "nbformat_minor": 5
}
