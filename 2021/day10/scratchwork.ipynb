{
 "cells": [
  {
   "cell_type": "code",
   "execution_count": 56,
   "id": "7d5c1c53-6cbe-4c53-93d3-3dc5ba5c91af",
   "metadata": {},
   "outputs": [
    {
     "name": "stdout",
     "output_type": "stream",
     "text": [
      "The lab_black extension is already loaded. To reload it, use:\n",
      "  %reload_ext lab_black\n",
      "The autoreload extension is already loaded. To reload it, use:\n",
      "  %reload_ext autoreload\n"
     ]
    }
   ],
   "source": [
    "%load_ext lab_black\n",
    "%load_ext autoreload\n",
    "%autoreload 2"
   ]
  },
  {
   "cell_type": "code",
   "execution_count": 57,
   "id": "cc1a022d-5e8b-4697-8940-71bb72f90f38",
   "metadata": {},
   "outputs": [],
   "source": [
    "from pathlib import Path\n",
    "from puzzle import Puzzle, Navigation"
   ]
  },
  {
   "cell_type": "code",
   "execution_count": 101,
   "id": "97b12a2b-61ae-49a5-b172-7d930745f80b",
   "metadata": {},
   "outputs": [
    {
     "data": {
      "text/plain": [
       "3515583998"
      ]
     },
     "execution_count": 101,
     "metadata": {},
     "output_type": "execute_result"
    }
   ],
   "source": [
    "puz = Puzzle(\"inputs.txt\")\n",
    "puz.part_2()"
   ]
  },
  {
   "cell_type": "code",
   "execution_count": 99,
   "id": "aeaff76c-1613-4a16-914e-a1f3ea415606",
   "metadata": {},
   "outputs": [
    {
     "data": {
      "text/plain": [
       "[Navigation(raw='[({(<(())[]>[[{[]{<()<>>'),\n",
       " Navigation(raw='[(()[<>])]({[<{<<[]>>('),\n",
       " Navigation(raw='{([(<{}[<>[]}>{[]{[(<()>'),\n",
       " Navigation(raw='(((({<>}<{<{<>}{[]{[]{}'),\n",
       " Navigation(raw='[[<[([]))<([[{}[[()]]]'),\n",
       " Navigation(raw='[{[{({}]{}}([{[{{{}}([]'),\n",
       " Navigation(raw='{<[[]]>}<{[{[{[]{()[[[]'),\n",
       " Navigation(raw='[<(<(<(<{}))><([]([]()'),\n",
       " Navigation(raw='<{([([[(<>()){}]>(<<{{'),\n",
       " Navigation(raw='<{([{{}}[<[[[<>{}]]]>[]]')]"
      ]
     },
     "execution_count": 99,
     "metadata": {},
     "output_type": "execute_result"
    }
   ],
   "source": [
    "puz.lines"
   ]
  },
  {
   "cell_type": "code",
   "execution_count": 51,
   "id": "b78fad31-7c9c-44c5-b826-111ea9c9c093",
   "metadata": {},
   "outputs": [
    {
     "name": "stderr",
     "output_type": "stream",
     "text": [
      "[autoreload of puzzle failed: Traceback (most recent call last):\n",
      "  File \"C:\\Users\\dakas\\miniconda3\\lib\\site-packages\\IPython\\extensions\\autoreload.py\", line 245, in check\n",
      "    superreload(m, reload, self.old_objects)\n",
      "  File \"C:\\Users\\dakas\\miniconda3\\lib\\site-packages\\IPython\\extensions\\autoreload.py\", line 394, in superreload\n",
      "    module = reload(module)\n",
      "  File \"C:\\Users\\dakas\\miniconda3\\lib\\imp.py\", line 314, in reload\n",
      "    return importlib.reload(module)\n",
      "  File \"C:\\Users\\dakas\\miniconda3\\lib\\importlib\\__init__.py\", line 169, in reload\n",
      "    _bootstrap._exec(spec, module)\n",
      "  File \"<frozen importlib._bootstrap>\", line 613, in _exec\n",
      "  File \"<frozen importlib._bootstrap_external>\", line 855, in exec_module\n",
      "  File \"<frozen importlib._bootstrap>\", line 228, in _call_with_frames_removed\n",
      "  File \"C:\\Users\\dakas\\projects\\advent-of-code\\2021\\day10\\puzzle.py\", line 11, in <module>\n",
      "    class Navigation:\n",
      "  File \"C:\\Users\\dakas\\projects\\advent-of-code\\2021\\day10\\puzzle.py\", line 13, in Navigation\n",
      "    self.incomplete: bool = None\n",
      "NameError: name 'self' is not defined\n",
      "]\n"
     ]
    },
    {
     "ename": "NameError",
     "evalue": "name 'Navigation' is not defined",
     "output_type": "error",
     "traceback": [
      "\u001b[1;31m---------------------------------------------------------------------------\u001b[0m",
      "\u001b[1;31mNameError\u001b[0m                                 Traceback (most recent call last)",
      "\u001b[1;32m<ipython-input-51-9ed0fbc71f9f>\u001b[0m in \u001b[0;36m<module>\u001b[1;34m\u001b[0m\n\u001b[0;32m     14\u001b[0m \u001b[1;33m\u001b[0m\u001b[0m\n\u001b[0;32m     15\u001b[0m \u001b[1;33m\u001b[0m\u001b[0m\n\u001b[1;32m---> 16\u001b[1;33m \u001b[0mNavigation\u001b[0m\u001b[1;33m(\u001b[0m\u001b[1;34m\"{([(<{}[<>[]}>{[]{[(<()>\"\u001b[0m\u001b[1;33m)\u001b[0m\u001b[1;33m\u001b[0m\u001b[1;33m\u001b[0m\u001b[0m\n\u001b[0m",
      "\u001b[1;31mNameError\u001b[0m: name 'Navigation' is not defined"
     ]
    }
   ],
   "source": [
    "def validate(my_string):\n",
    "    brackets = [\"()\", \"{}\", \"[]\", \"<>\"]\n",
    "    while any(pair in my_string for pair in brackets):\n",
    "        for br in brackets:\n",
    "            my_string = my_string.replace(br, \"\")\n",
    "    incomplete = set(my_string) - set(\"({[<\") == set()\n",
    "    invalid = [my_string.find(rt_br) for rt_br in \")}]>\"]\n",
    "    invalid = [x for x in invalid if x != -1]\n",
    "    if invalid:\n",
    "        invalid = min(invalid)\n",
    "    else:\n",
    "        invalid = None\n",
    "    return my_string, incomplete, my_string[invalid]\n",
    "\n",
    "\n",
    "Navigation(\"{([(<{}[<>[]}>{[]{[(<()>\")"
   ]
  },
  {
   "cell_type": "code",
   "execution_count": 66,
   "id": "8f0be7de-532b-48aa-92be-0a8528ee587a",
   "metadata": {},
   "outputs": [
    {
     "data": {
      "text/plain": [
       "True"
      ]
     },
     "execution_count": 66,
     "metadata": {},
     "output_type": "execute_result"
    }
   ],
   "source": [
    "my_string = \"<\"\n",
    "bool(set(my_string) & set(\"({[<\"))  # == set()"
   ]
  },
  {
   "cell_type": "code",
   "execution_count": 49,
   "id": "5c3b8050-07a1-439e-88c2-7f57819f92c7",
   "metadata": {},
   "outputs": [
    {
     "data": {
      "text/plain": [
       "('[[<[)<([', False, ')')"
      ]
     },
     "execution_count": 49,
     "metadata": {},
     "output_type": "execute_result"
    }
   ],
   "source": [
    "validate(\"[[<[([]))<([[{}[[()]]]\")"
   ]
  },
  {
   "cell_type": "code",
   "execution_count": 47,
   "id": "cc07952e-ff75-4eee-a5f2-b2ab7ed71383",
   "metadata": {},
   "outputs": [
    {
     "data": {
      "text/plain": [
       "('[({([[{{', True, None)"
      ]
     },
     "execution_count": 47,
     "metadata": {},
     "output_type": "execute_result"
    }
   ],
   "source": [
    "validate(\"[({(<(())[]>[[{[]{<()<>>\")"
   ]
  },
  {
   "cell_type": "code",
   "execution_count": 39,
   "id": "bed4ca26-4444-46e6-be20-5df23fbfbd8b",
   "metadata": {},
   "outputs": [
    {
     "ename": "TypeError",
     "evalue": "find() takes at least 1 argument (0 given)",
     "output_type": "error",
     "traceback": [
      "\u001b[1;31m---------------------------------------------------------------------------\u001b[0m",
      "\u001b[1;31mTypeError\u001b[0m                                 Traceback (most recent call last)",
      "\u001b[1;32m<ipython-input-39-05f3db035724>\u001b[0m in \u001b[0;36m<module>\u001b[1;34m\u001b[0m\n\u001b[1;32m----> 1\u001b[1;33m \u001b[1;34m\"asdhf\"\u001b[0m\u001b[1;33m.\u001b[0m\u001b[0mfind\u001b[0m\u001b[1;33m(\u001b[0m\u001b[1;33m)\u001b[0m\u001b[1;33m\u001b[0m\u001b[1;33m\u001b[0m\u001b[0m\n\u001b[0m",
      "\u001b[1;31mTypeError\u001b[0m: find() takes at least 1 argument (0 given)"
     ]
    }
   ],
   "source": [
    "\"asdhf\".find()"
   ]
  },
  {
   "cell_type": "code",
   "execution_count": 22,
   "id": "1a146181-e20a-4259-afcf-7904f06743c1",
   "metadata": {},
   "outputs": [
    {
     "data": {
      "text/plain": [
       "Point(row=4, col=9)"
      ]
     },
     "execution_count": 22,
     "metadata": {},
     "output_type": "execute_result"
    }
   ],
   "source": [
    "fname = \"tests.txt\"\n",
    "raw = Path(fname).open().readlines()\n",
    "grid = np.array([list(row.strip()) for row in raw]).astype(int)\n",
    "\n",
    "\n",
    "low_pts = []\n",
    "\n",
    "for rownum, row in enumerate(grid):\n",
    "    for colnum, val in enumerate(row):\n",
    "        pt = Point(rownum, colnum, grid)\n",
    "        if pt.is_lowest():\n",
    "            low_pts.append(pt)\n",
    "pt"
   ]
  },
  {
   "cell_type": "code",
   "execution_count": 57,
   "id": "f48c9a12-d485-4971-9122-ff151f490ea8",
   "metadata": {},
   "outputs": [
    {
     "data": {
      "text/plain": [
       "array([[1, 1, 0, 0, 0, 1, 1, 1, 1, 1],\n",
       "       [1, 0, 1, 1, 1, 0, 1, 0, 1, 1],\n",
       "       [0, 1, 1, 1, 1, 1, 0, 1, 0, 1],\n",
       "       [1, 1, 1, 1, 1, 0, 1, 1, 1, 0],\n",
       "       [0, 1, 0, 0, 0, 1, 1, 1, 1, 1]])"
      ]
     },
     "execution_count": 57,
     "metadata": {},
     "output_type": "execute_result"
    }
   ],
   "source": [
    "basins = np.where(grid == 9, 0, 1)\n",
    "basins"
   ]
  },
  {
   "cell_type": "code",
   "execution_count": 60,
   "id": "5d68164e-df14-4289-ad27-0b67ff6fcad6",
   "metadata": {},
   "outputs": [
    {
     "data": {
      "text/plain": [
       "array([ 0.,  3.,  9., 14.,  9.])"
      ]
     },
     "execution_count": 60,
     "metadata": {},
     "output_type": "execute_result"
    }
   ],
   "source": [
    "from scipy.ndimage import measurements\n",
    "\n",
    "lw, num = measurements.label(basins)\n",
    "area = measurements.sum(basins, lw, index=np.arange(lw.max() + 1))\n",
    "area"
   ]
  },
  {
   "cell_type": "markdown",
   "id": "d5dafc24-d3c5-4e49-986e-1f7c61371142",
   "metadata": {},
   "source": [
    "## Black format my final answer"
   ]
  },
  {
   "cell_type": "code",
   "execution_count": 102,
   "id": "e2a7f23f-8dbf-4bd5-b0f7-91e245dcb340",
   "metadata": {},
   "outputs": [
    {
     "name": "stdout",
     "output_type": "stream",
     "text": [
      "All tests passed.\n",
      "Part 1: 319329\n",
      "Part 2: 3515583998\n"
     ]
    }
   ],
   "source": [
    "from pathlib import Path\n",
    "from dataclasses import dataclass, field\n",
    "from statistics import median\n",
    "\n",
    "\n",
    "T1_ANS = 26397\n",
    "T2_ANS = 288957\n",
    "\n",
    "\n",
    "@dataclass\n",
    "class Navigation:\n",
    "    raw: str\n",
    "    incomplete: bool = field(default=None, repr=False)\n",
    "    invalid: str = field(default=None, repr=False)\n",
    "\n",
    "    def __post_init__(self):\n",
    "        self.validate()\n",
    "        return\n",
    "\n",
    "    def validate(self):\n",
    "        \"\"\"Adapted from approach #3:\n",
    "        https://www.geeksforgeeks.org/check-for-balanced-parentheses-in-python/\n",
    "        \"\"\"\n",
    "        my_string = self.raw\n",
    "        brackets = [\"()\", \"{}\", \"[]\", \"<>\"]\n",
    "        while any(pair in my_string for pair in brackets):\n",
    "            for br in brackets:\n",
    "                my_string = my_string.replace(br, \"\")\n",
    "        self.incomplete = set(my_string).issubset(set(\"({[<\"))\n",
    "        if self.incomplete:\n",
    "            self.needs_completing = my_string\n",
    "        invalid_idx = [my_string.find(rt_br) for rt_br in \")}]>\"]\n",
    "        invalid_idx = [x for x in invalid_idx if x != -1]\n",
    "        if invalid_idx:\n",
    "            self.invalid = my_string[min(invalid_idx)]\n",
    "        return self.incomplete, self.invalid\n",
    "\n",
    "    def complete(self):\n",
    "        \"\"\"invalid takes precedence over incomplete, so if it\n",
    "        is both, this code wil NOT complete an invalid line.\n",
    "        \"\"\"\n",
    "        if not self.incomplete:\n",
    "            return \"\"\n",
    "        closer = {\"(\": \")\", \"{\": \"}\", \"[\": \"]\", \"<\": \">\"}\n",
    "        return \"\".join(closer[b] for b in reversed(self.needs_completing))\n",
    "\n",
    "\n",
    "@dataclass\n",
    "class Puzzle:\n",
    "    fname: str\n",
    "    lines: list = None\n",
    "\n",
    "    def __post_init__(self):\n",
    "        raw = Path(self.fname).open().readlines()\n",
    "        self.lines = [Navigation(line.strip()) for line in raw]\n",
    "\n",
    "    def part_1(self):\n",
    "        todo = [l for l in self.lines if l.invalid and not l.incomplete]\n",
    "        scoring = {\")\": 3, \"]\": 57, \"}\": 1197, \">\": 25137}\n",
    "        return sum(scoring[line.invalid] for line in todo)\n",
    "\n",
    "    def part_2(self):\n",
    "        todo = [l for l in self.lines if l.incomplete and not l.invalid]\n",
    "        scoring = {\")\": 1, \"]\": 2, \"}\": 3, \">\": 4}\n",
    "\n",
    "        scores = []\n",
    "        for l in todo:\n",
    "            r_brackets = l.complete()\n",
    "            score = 0\n",
    "            for br in r_brackets:\n",
    "                score *= 5\n",
    "                score += scoring[br]\n",
    "            scores.append(score)\n",
    "\n",
    "        return median(scores)\n",
    "\n",
    "\n",
    "def run_tests(p1_ans=T1_ANS, p2_ans=T2_ANS, fname=\"tests.txt\"):\n",
    "    puz = Puzzle(fname)\n",
    "    t1 = puz.part_1()\n",
    "    assert t1 == p1_ans, f\"Test 1 failed. Got {t1} instead of {p1_ans}\"\n",
    "\n",
    "    if p2_ans is not None:\n",
    "        t2 = puz.part_2()\n",
    "        assert t2 == p2_ans, f\"Test 2 failed. Got {t2} instead of {p2_ans}\"\n",
    "\n",
    "    print(\"All tests passed.\")\n",
    "    return\n",
    "\n",
    "\n",
    "if __name__ == \"__main__\":\n",
    "    run_tests()\n",
    "\n",
    "    puz = Puzzle(\"inputs.txt\")\n",
    "\n",
    "    p1 = puz.part_1()\n",
    "    print(\"Part 1:\", p1)\n",
    "\n",
    "    if T2_ANS is not None:\n",
    "        p2 = puz.part_2()\n",
    "        print(\"Part 2:\", p2)"
   ]
  },
  {
   "cell_type": "code",
   "execution_count": 5,
   "id": "4a0c23fc-ea30-431d-98e5-a997bdcfcab4",
   "metadata": {},
   "outputs": [
    {
     "data": {
      "text/plain": [
       "1654"
      ]
     },
     "execution_count": 5,
     "metadata": {},
     "output_type": "execute_result"
    }
   ],
   "source": [
    "import numpy as np\n",
    "from scipy import ndimage\n",
    "\n",
    "# floor = np.array(\n",
    "#     [\n",
    "#         [2, 1, 9, 9, 9, 4, 3, 2, 1, 0],\n",
    "#         [3, 9, 8, 7, 8, 9, 4, 9, 2, 1],\n",
    "#         [9, 8, 5, 6, 7, 8, 9, 8, 9, 2],\n",
    "#         [8, 7, 6, 7, 8, 9, 6, 7, 8, 9],\n",
    "#         [9, 8, 9, 9, 9, 6, 5, 6, 7, 8],\n",
    "#     ]\n",
    "# )\n",
    "\n",
    "floor = puz.grid\n",
    "\n",
    "mask = np.array([[0, 1, 0], [1, 1, 1], [0, 1, 0]])\n",
    "\n",
    "window_minima = ndimage.minimum_filter(floor, footprint=mask, mode=\"constant\", cval=9)\n",
    "minima = floor[floor == window_minima]\n",
    "sum(minima + 1)"
   ]
  },
  {
   "cell_type": "code",
   "execution_count": 6,
   "id": "0c6b2f48-935f-4e42-a667-198fe12fb40a",
   "metadata": {},
   "outputs": [
    {
     "data": {
      "text/plain": [
       "array([[0, 0, 0, ..., 0, 0, 0],\n",
       "       [0, 1, 0, ..., 0, 0, 0],\n",
       "       [0, 0, 0, ..., 0, 0, 0],\n",
       "       ...,\n",
       "       [0, 0, 0, ..., 0, 0, 1],\n",
       "       [0, 0, 0, ..., 0, 0, 0],\n",
       "       [0, 0, 0, ..., 0, 0, 0]])"
      ]
     },
     "execution_count": 6,
     "metadata": {},
     "output_type": "execute_result"
    }
   ],
   "source": [
    "np.where(floor == window_minima, 1, 0)"
   ]
  },
  {
   "cell_type": "code",
   "execution_count": null,
   "id": "f40fc80c-e7ee-4f21-ada1-7edabeba05e4",
   "metadata": {},
   "outputs": [],
   "source": []
  }
 ],
 "metadata": {
  "kernelspec": {
   "display_name": "Python 3",
   "language": "python",
   "name": "python3"
  },
  "language_info": {
   "codemirror_mode": {
    "name": "ipython",
    "version": 3
   },
   "file_extension": ".py",
   "mimetype": "text/x-python",
   "name": "python",
   "nbconvert_exporter": "python",
   "pygments_lexer": "ipython3",
   "version": "3.9.5"
  }
 },
 "nbformat": 4,
 "nbformat_minor": 5
}
