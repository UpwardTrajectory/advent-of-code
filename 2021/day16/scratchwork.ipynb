{
 "cells": [
  {
   "cell_type": "code",
   "execution_count": 1,
   "id": "7d5c1c53-6cbe-4c53-93d3-3dc5ba5c91af",
   "metadata": {},
   "outputs": [],
   "source": [
    "%load_ext lab_black\n",
    "%load_ext autoreload\n",
    "%autoreload 2"
   ]
  },
  {
   "cell_type": "code",
   "execution_count": 2,
   "id": "cc1a022d-5e8b-4697-8940-71bb72f90f38",
   "metadata": {},
   "outputs": [],
   "source": [
    "from pathlib import Path\n",
    "from puzzle import Puzzle"
   ]
  },
  {
   "cell_type": "code",
   "execution_count": 3,
   "id": "1d9b8c88-c8e5-483f-808b-273ccf6d2fc9",
   "metadata": {},
   "outputs": [
    {
     "data": {
      "text/plain": [
       "Puzzle(fname='tests.txt')"
      ]
     },
     "execution_count": 3,
     "metadata": {},
     "output_type": "execute_result"
    }
   ],
   "source": [
    "puz = Puzzle(\"tests.txt\")\n",
    "puz"
   ]
  },
  {
   "cell_type": "code",
   "execution_count": 4,
   "id": "222ffcca-ff5d-410b-830d-99ef37dbeed5",
   "metadata": {},
   "outputs": [
    {
     "data": {
      "text/plain": [
       "['100010100000000001001010100000000001101010000000000000101111010001111',\n",
       " '011000100000000010000000000000000001011000010001010101100010110010001000000000100001000110001110001101',\n",
       " '1100000000000001010100000000000000000001011000010001010110100010111000001000000000101111000110000010001101',\n",
       " '10100000000000010110110010001000000000010110001000000001011111000011011010000110101100011000101000111101010001111']"
      ]
     },
     "execution_count": 4,
     "metadata": {},
     "output_type": "execute_result"
    }
   ],
   "source": [
    "puz.bin_list"
   ]
  },
  {
   "cell_type": "code",
   "execution_count": 5,
   "id": "51567977-7a5a-4eb8-a26b-3e38477d8ef7",
   "metadata": {},
   "outputs": [
    {
     "data": {
      "text/plain": [
       "(1, '001010100000000001101010000000000000101111010001111')"
      ]
     },
     "execution_count": 5,
     "metadata": {},
     "output_type": "execute_result"
    }
   ],
   "source": [
    "puz.decode_packet(\n",
    "    \"100010100000000001001010100000000001101010000000000000101111010001111\"\n",
    ")"
   ]
  },
  {
   "cell_type": "code",
   "execution_count": 7,
   "id": "e6ef336a-6233-4321-b196-b9421ee1f421",
   "metadata": {},
   "outputs": [
    {
     "data": {
      "text/plain": [
       "[4]"
      ]
     },
     "execution_count": 7,
     "metadata": {},
     "output_type": "execute_result"
    }
   ],
   "source": [
    "puz.version_list"
   ]
  },
  {
   "cell_type": "code",
   "execution_count": null,
   "id": "1da315fe-2467-42b8-9ccb-b37527406926",
   "metadata": {},
   "outputs": [],
   "source": [
    "hex_list = [\"38006F45291200\"]\n",
    "binaries = puz.hex_to_bin(hex_list)[0]\n",
    "binaries"
   ]
  },
  {
   "cell_type": "code",
   "execution_count": null,
   "id": "0f5644e4-94c0-4bc4-9e59-25feee0f4538",
   "metadata": {},
   "outputs": [],
   "source": [
    "puz.decode_packet(binaries)"
   ]
  },
  {
   "cell_type": "code",
   "execution_count": null,
   "id": "53b4bb0a-2d4f-47ae-90da-9b16809d7989",
   "metadata": {},
   "outputs": [],
   "source": [
    "tmp = \"110100010100101001000100100\"\n",
    "\n",
    "cutoff = 5 * tmp[::5].find(\"0\") + 5\n",
    "tmp[:cutoff], tmp[cutoff + 1 :]"
   ]
  },
  {
   "cell_type": "code",
   "execution_count": null,
   "id": "5859edeb-cb49-45c7-b7b3-b07f9c946b87",
   "metadata": {},
   "outputs": [],
   "source": [
    "\"110100010100101001000100100\" == \"110100010100101001000100100\""
   ]
  },
  {
   "cell_type": "code",
   "execution_count": null,
   "id": "5b0971a5-c90c-49b4-8101-faf0ecf6648f",
   "metadata": {},
   "outputs": [],
   "source": [
    "sub_str = \"111\"\n",
    "sub_len = 5\n",
    "while len(sub_str) < sub_len:\n",
    "    sub_str = sub_str + \"0\"\n",
    "sub_str"
   ]
  },
  {
   "cell_type": "code",
   "execution_count": null,
   "id": "8924c0e0-1dde-43f1-a3fc-9f527c817017",
   "metadata": {},
   "outputs": [],
   "source": []
  },
  {
   "cell_type": "code",
   "execution_count": null,
   "id": "4b586ddc-c5ca-4e15-8d30-93c4aa66a2e2",
   "metadata": {},
   "outputs": [],
   "source": [
    "\"1101000101001010010001001\" == \"1101000101001010010001001\"  # 00\""
   ]
  },
  {
   "cell_type": "code",
   "execution_count": null,
   "id": "d97982ae-2168-48dd-bce6-2e5708731dd8",
   "metadata": {},
   "outputs": [],
   "source": [
    "\"000000000011011110100010100101001000100100\""
   ]
  },
  {
   "cell_type": "code",
   "execution_count": null,
   "id": "4b0f94c1-fc8a-4f97-a42c-616aaf7dc2df",
   "metadata": {},
   "outputs": [],
   "source": [
    "len(\"101111111000101\")"
   ]
  },
  {
   "cell_type": "code",
   "execution_count": null,
   "id": "3f462c6c-36d9-46b3-8be7-2e024e816cd5",
   "metadata": {},
   "outputs": [],
   "source": [
    "len(\"111000000000000110111101000101001010010001001000000000\")"
   ]
  },
  {
   "cell_type": "code",
   "execution_count": null,
   "id": "2f1ee561-8731-498a-b4c9-ef4b1dcfd79e",
   "metadata": {},
   "outputs": [],
   "source": [
    "x = \"10110\"\n",
    "\"0\" * (4 - len(x) % 4) + x"
   ]
  },
  {
   "cell_type": "code",
   "execution_count": null,
   "id": "67f0a381-dae6-4a7d-9438-d3d7be04580b",
   "metadata": {},
   "outputs": [],
   "source": []
  },
  {
   "cell_type": "code",
   "execution_count": null,
   "id": "c94818eb-2a75-4c8d-b339-08983e007add",
   "metadata": {},
   "outputs": [],
   "source": [
    "tmp = puz.hex_to_bin([\"38006F45291200\"])[0]\n",
    "print(tmp)\n",
    "header, type_id, other = puz.decode_packet(tmp)\n",
    "\n",
    "puz.packet_id_reader(type_id, other)"
   ]
  },
  {
   "cell_type": "code",
   "execution_count": null,
   "id": "84ab5a16-6d74-4787-ac23-e6d29a193a46",
   "metadata": {},
   "outputs": [],
   "source": [
    "header"
   ]
  },
  {
   "cell_type": "code",
   "execution_count": null,
   "id": "d739952b-51cc-4ebf-8719-cd60bf5c7ab3",
   "metadata": {},
   "outputs": [],
   "source": [
    "type(type_id)"
   ]
  },
  {
   "cell_type": "code",
   "execution_count": null,
   "id": "6bb36345-1cec-42d2-b1c0-d761dd81c8df",
   "metadata": {},
   "outputs": [],
   "source": [
    "int(\"011111100101\", 2)"
   ]
  },
  {
   "cell_type": "code",
   "execution_count": null,
   "id": "aea2c471-5a55-413d-8c12-e35d85f5d4dc",
   "metadata": {},
   "outputs": [],
   "source": [
    "int(\"110\", 2)"
   ]
  },
  {
   "cell_type": "code",
   "execution_count": null,
   "id": "78042739-e095-497e-96dd-4db3e7274762",
   "metadata": {},
   "outputs": [],
   "source": [
    "bytes.hex(b\"\\x8a\\x00J\\x80\\x1a\\x80\\x02\\xf4x\")"
   ]
  },
  {
   "cell_type": "code",
   "execution_count": null,
   "id": "60f169ad-1bef-4318-9292-f487e7ed3b1b",
   "metadata": {},
   "outputs": [],
   "source": [
    "tmp = \"8A004A801A8002F478\"\n",
    "\n",
    "# [bytes.fromhex(\"0\" + a) for a in tmp]\n",
    "# bytes.fromhex(\"08\")\n",
    "\"\".join([bin(int(a, 16))[2:].zfill(4) for a in tmp])"
   ]
  },
  {
   "cell_type": "code",
   "execution_count": null,
   "id": "bc322648-2f9f-4218-8477-39791737a131",
   "metadata": {},
   "outputs": [],
   "source": [
    "bin(int(tmp, 16))[2:]"
   ]
  },
  {
   "cell_type": "code",
   "execution_count": null,
   "id": "011edae3-4272-431a-99e6-f704cf0bfeea",
   "metadata": {},
   "outputs": [],
   "source": [
    "puz.part_1()"
   ]
  },
  {
   "cell_type": "code",
   "execution_count": null,
   "id": "0c881d5f-b5e2-4ff7-b343-a69870cfd81f",
   "metadata": {},
   "outputs": [],
   "source": [
    "puz.part_2()"
   ]
  },
  {
   "cell_type": "markdown",
   "id": "d5dafc24-d3c5-4e49-986e-1f7c61371142",
   "metadata": {},
   "source": [
    "## Black format my final answer"
   ]
  },
  {
   "cell_type": "code",
   "execution_count": null,
   "id": "e2a7f23f-8dbf-4bd5-b0f7-91e245dcb340",
   "metadata": {},
   "outputs": [],
   "source": [
    "dir_names = [\"day\"+str(x) for x in range(15, 26)]\n",
    "dir_names"
   ]
  },
  {
   "cell_type": "code",
   "execution_count": null,
   "id": "f40fc80c-e7ee-4f21-ada1-7edabeba05e4",
   "metadata": {},
   "outputs": [],
   "source": [
    "from pathlib import Path\n",
    "\n",
    "p = Path(\"..\").resolve()\n",
    "\n",
    "source = Path().glob(\"*.*\")\n",
    "source = list(x for x in source if \"checkpoints\" not in str(x))\n",
    "print(source)\n",
    "\n",
    "# for dirname in dir_names:\n",
    "#     new_folder = p / dirname\n",
    "#     new_folder.mkdir(parents=True)\n",
    "    for file in source:\n",
    "        shutil.copy(str(file), )\n",
    "    "
   ]
  },
  {
   "cell_type": "code",
   "execution_count": null,
   "id": "55ceb89a-0d41-436f-9b85-41cadd467708",
   "metadata": {},
   "outputs": [],
   "source": []
  }
 ],
 "metadata": {
  "kernelspec": {
   "display_name": "Python 3 (ipykernel)",
   "language": "python",
   "name": "python3"
  },
  "language_info": {
   "codemirror_mode": {
    "name": "ipython",
    "version": 3
   },
   "file_extension": ".py",
   "mimetype": "text/x-python",
   "name": "python",
   "nbconvert_exporter": "python",
   "pygments_lexer": "ipython3",
   "version": "3.10.0"
  }
 },
 "nbformat": 4,
 "nbformat_minor": 5
}
