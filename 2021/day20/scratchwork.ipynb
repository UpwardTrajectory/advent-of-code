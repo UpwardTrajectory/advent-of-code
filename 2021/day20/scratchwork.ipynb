{
 "cells": [
  {
   "cell_type": "code",
   "execution_count": 1,
   "id": "7d5c1c53-6cbe-4c53-93d3-3dc5ba5c91af",
   "metadata": {},
   "outputs": [],
   "source": [
    "%load_ext lab_black\n",
    "%load_ext autoreload\n",
    "%autoreload 2"
   ]
  },
  {
   "cell_type": "code",
   "execution_count": 2,
   "id": "cc1a022d-5e8b-4697-8940-71bb72f90f38",
   "metadata": {},
   "outputs": [],
   "source": [
    "from pathlib import Path\n",
    "from puzzle import Puzzle"
   ]
  },
  {
   "cell_type": "code",
   "execution_count": 5,
   "id": "1d9b8c88-c8e5-483f-808b-273ccf6d2fc9",
   "metadata": {
    "tags": []
   },
   "outputs": [
    {
     "data": {
      "text/plain": [
       "(9, 9)"
      ]
     },
     "execution_count": 5,
     "metadata": {},
     "output_type": "execute_result"
    }
   ],
   "source": [
    "puz = Puzzle(\"tests.txt\")\n",
    "puz.img.shape  # .show()"
   ]
  },
  {
   "cell_type": "code",
   "execution_count": null,
   "id": "a909616b-823e-4214-a663-cdd51c49e588",
   "metadata": {
    "tags": []
   },
   "outputs": [],
   "source": [
    "puz.enhance().enhance().show()"
   ]
  },
  {
   "cell_type": "code",
   "execution_count": null,
   "id": "8dc385e5-1f2b-43d1-9f2a-c3439ea4eaa3",
   "metadata": {},
   "outputs": [],
   "source": [
    "puz.img.sum()"
   ]
  },
  {
   "cell_type": "code",
   "execution_count": null,
   "id": "946133b6-be62-4c7c-bedf-7de51f35e9ab",
   "metadata": {},
   "outputs": [],
   "source": [
    "puz.minigrid_dirs"
   ]
  },
  {
   "cell_type": "code",
   "execution_count": 6,
   "id": "50f79896-4769-4bf7-97f8-81d50e61f04e",
   "metadata": {},
   "outputs": [
    {
     "data": {
      "text/plain": [
       "35"
      ]
     },
     "execution_count": 6,
     "metadata": {},
     "output_type": "execute_result"
    }
   ],
   "source": [
    "puz.part_1()"
   ]
  },
  {
   "cell_type": "code",
   "execution_count": null,
   "id": "81ef9a92-fa52-491e-a610-85ff3fd2a2f6",
   "metadata": {},
   "outputs": [],
   "source": [
    "puz.show()"
   ]
  },
  {
   "cell_type": "code",
   "execution_count": null,
   "id": "eef4b852-4139-4d28-988a-3f49f3a33546",
   "metadata": {},
   "outputs": [],
   "source": [
    "print(puz.img.shape)\n",
    "puz.enhance()"
   ]
  },
  {
   "cell_type": "code",
   "execution_count": null,
   "id": "b0a0c075-be79-4db8-a987-dce49701ad22",
   "metadata": {},
   "outputs": [],
   "source": [
    "puz.show()"
   ]
  },
  {
   "cell_type": "code",
   "execution_count": null,
   "id": "73ba35e4-60e2-4aac-8fff-fa6ff4ab9a40",
   "metadata": {},
   "outputs": [],
   "source": [
    "print(puz.img.shape)\n",
    "puz.enhance()"
   ]
  },
  {
   "cell_type": "code",
   "execution_count": null,
   "id": "7fa8e44a-8fe3-4903-addb-0d8421c7c11f",
   "metadata": {},
   "outputs": [],
   "source": [
    "puz.img.sum()"
   ]
  },
  {
   "cell_type": "code",
   "execution_count": null,
   "id": "c3976f93-cc88-4b1d-8f9c-8d6165c20513",
   "metadata": {},
   "outputs": [],
   "source": [
    "p = Pixel(1, 1)\n",
    "p"
   ]
  },
  {
   "cell_type": "code",
   "execution_count": null,
   "id": "fd441134-a7ad-4b34-9717-a6450670184e",
   "metadata": {},
   "outputs": [],
   "source": [
    "\n",
    "pts = product(range(1, 7), range(1, 7))\n",
    "list(pts)"
   ]
  },
  {
   "cell_type": "code",
   "execution_count": null,
   "id": "1cd020bd-ffa4-485b-a559-f0e94a6c4462",
   "metadata": {},
   "outputs": [],
   "source": [
    "puz.lookup[\"000100010\"]"
   ]
  },
  {
   "cell_type": "code",
   "execution_count": null,
   "id": "5e407125-6dce-4ef5-9286-e7a37b455e7c",
   "metadata": {},
   "outputs": [],
   "source": [
    "top = \"\"\n",
    "bot = \"\"\n",
    "c = {\"0\": \".\", \"1\": \"#\"}\n",
    "\n",
    "for i, n in enumerate(puz.algo[:74]):\n",
    "    if i == 34:\n",
    "        top += \"v\"\n",
    "    elif i % 10 == 0:\n",
    "        top += str(i // 10)\n",
    "    else:\n",
    "        top += \" \"\n",
    "    bot += c[n]\n",
    "print(top)\n",
    "print(bot)"
   ]
  },
  {
   "cell_type": "code",
   "execution_count": null,
   "id": "6b061810-c479-4d45-a98a-51f09aba0558",
   "metadata": {},
   "outputs": [],
   "source": [
    "from itertools import product\n",
    "\n",
    "ways = list(product([-1, 0, 1], repeat=2))\n",
    "ways"
   ]
  },
  {
   "cell_type": "code",
   "execution_count": null,
   "id": "eec1d627-32c4-4735-9364-0766276eca2e",
   "metadata": {},
   "outputs": [],
   "source": [
    "puz.algo"
   ]
  },
  {
   "cell_type": "code",
   "execution_count": null,
   "id": "1081e31b-8818-4a8b-9245-a324f32f0c1f",
   "metadata": {},
   "outputs": [],
   "source": [
    "puz.img"
   ]
  },
  {
   "cell_type": "code",
   "execution_count": null,
   "id": "011edae3-4272-431a-99e6-f704cf0bfeea",
   "metadata": {},
   "outputs": [],
   "source": [
    "puz.part_1()"
   ]
  },
  {
   "cell_type": "code",
   "execution_count": null,
   "id": "0c881d5f-b5e2-4ff7-b343-a69870cfd81f",
   "metadata": {},
   "outputs": [],
   "source": [
    "puz.part_2()"
   ]
  },
  {
   "cell_type": "markdown",
   "id": "d5dafc24-d3c5-4e49-986e-1f7c61371142",
   "metadata": {},
   "source": [
    "## Black format my final answer"
   ]
  },
  {
   "cell_type": "code",
   "execution_count": null,
   "id": "e2a7f23f-8dbf-4bd5-b0f7-91e245dcb340",
   "metadata": {},
   "outputs": [],
   "source": [
    "dir_names = [\"day\"+str(x) for x in range(15, 26)]\n",
    "dir_names"
   ]
  },
  {
   "cell_type": "code",
   "execution_count": null,
   "id": "f40fc80c-e7ee-4f21-ada1-7edabeba05e4",
   "metadata": {},
   "outputs": [],
   "source": [
    "from pathlib import Path\n",
    "from typing import Literal\n",
    "from itertools import product\n",
    "from dataclasses import dataclass, field\n",
    "import numpy as np\n",
    "\n",
    "\n",
    "T1_ANS = 35\n",
    "T2_ANS = None\n",
    "\n",
    "\n",
    "@dataclass\n",
    "class Puzzle:\n",
    "    fname: str\n",
    "    algo: str = field(default=None, repr=False)\n",
    "    lookup: dict[str:str] = field(default_factory=dict, repr=False)\n",
    "    img: np.array = None\n",
    "    minigrid_dirs: list = field(default_factory=list, repr=False)\n",
    "\n",
    "    def __post_init__(self):\n",
    "        raw = Path(self.fname).open().readlines()  # or read() for a big block of text\n",
    "        self.algo = raw[0].replace(\".\", \"0\").replace(\"#\", \"1\").strip()\n",
    "\n",
    "        possible_binary = list(product([0, 1], repeat=9))\n",
    "        possible_binary = [\"\".join(str(x) for x in row) for row in possible_binary]\n",
    "\n",
    "        self.lookup = {\n",
    "            minigrid: int(self.algo[int(minigrid, 2)]) for minigrid in possible_binary\n",
    "        }\n",
    "\n",
    "        img = np.array(\n",
    "            [list(row.replace(\".\", \"0\").replace(\"#\", \"1\").strip()) for row in raw[2:]]\n",
    "        ).astype(int)\n",
    "        self.img = np.pad(img, 2)\n",
    "        self.minigrid_dirs = list(product([-1, 0, 1], repeat=2))\n",
    "        return\n",
    "\n",
    "    def get_minigrid(self, row, col):\n",
    "        img = self.img\n",
    "        ways = self.minigrid_dirs\n",
    "        return \"\".join(str(img[row + way[0], col + way[1]]) for way in ways)\n",
    "\n",
    "    def enhance(self):\n",
    "\n",
    "        nrows, ncols = self.img.shape\n",
    "\n",
    "        pts = list(product(range(1, nrows - 1), range(1, ncols - 1)))\n",
    "        new_img = np.zeros((nrows + 4, ncols + 4), dtype=int)\n",
    "\n",
    "        for pt in pts:\n",
    "            minigrid = self.get_minigrid(*pt)\n",
    "            new_row = pt[0] + 2\n",
    "            new_col = pt[1] + 2\n",
    "            new_img[new_row, new_col] = self.lookup[minigrid]\n",
    "\n",
    "        self.img = new_img\n",
    "        return self\n",
    "\n",
    "    def show(self):\n",
    "        convert = {0: \".\", 1: \"#\"}\n",
    "\n",
    "        for row in self.img:\n",
    "            print(\"\".join(convert[x] for x in row))\n",
    "        return\n",
    "\n",
    "    def part_1(self):\n",
    "        self.enhance()\n",
    "        self.enhance()\n",
    "        return self.img.sum()\n",
    "\n",
    "    def part_2(self):\n",
    "        pass\n",
    "\n",
    "\n",
    "def run_tests(p1_ans=T1_ANS, p2_ans=T2_ANS, fname=\"tests.txt\"):\n",
    "    puz = Puzzle(fname)\n",
    "    t1 = puz.part_1()\n",
    "    assert t1 == p1_ans, f\"Test 1 failed. Got {t1} instead of {p1_ans}\"\n",
    "\n",
    "    if p2_ans is not None:\n",
    "        t2 = puz.part_2()\n",
    "        assert t2 == p2_ans, f\"Test 2 failed. Got {t2} instead of {p2_ans}\"\n",
    "\n",
    "    print(\"All tests passed.\")\n",
    "    return\n",
    "\n",
    "\n",
    "if __name__ == \"__main__\":\n",
    "    run_tests()\n",
    "\n",
    "    puz = Puzzle(\"inputs.txt\")\n",
    "\n",
    "    p1 = puz.part_1()\n",
    "    print(\"Part 1:\", p1)\n",
    "\n",
    "    if T2_ANS is not None:\n",
    "        p2 = puz.part_2()\n",
    "        print(\"Part 2:\", p2)"
   ]
  },
  {
   "cell_type": "code",
   "execution_count": null,
   "id": "55ceb89a-0d41-436f-9b85-41cadd467708",
   "metadata": {},
   "outputs": [],
   "source": []
  }
 ],
 "metadata": {
  "kernelspec": {
   "display_name": "Python 3 (ipykernel)",
   "language": "python",
   "name": "python3"
  },
  "language_info": {
   "codemirror_mode": {
    "name": "ipython",
    "version": 3
   },
   "file_extension": ".py",
   "mimetype": "text/x-python",
   "name": "python",
   "nbconvert_exporter": "python",
   "pygments_lexer": "ipython3",
   "version": "3.10.0"
  }
 },
 "nbformat": 4,
 "nbformat_minor": 5
}
