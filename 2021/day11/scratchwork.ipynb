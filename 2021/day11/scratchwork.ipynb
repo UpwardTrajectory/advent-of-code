{
 "cells": [
  {
   "cell_type": "code",
   "execution_count": 1,
   "id": "7d5c1c53-6cbe-4c53-93d3-3dc5ba5c91af",
   "metadata": {},
   "outputs": [],
   "source": [
    "%load_ext lab_black\n",
    "%load_ext autoreload\n",
    "%autoreload 2"
   ]
  },
  {
   "cell_type": "code",
   "execution_count": 28,
   "id": "cc1a022d-5e8b-4697-8940-71bb72f90f38",
   "metadata": {},
   "outputs": [],
   "source": [
    "from pathlib import Path\n",
    "from puzzle import Puzzle, Octopus"
   ]
  },
  {
   "cell_type": "code",
   "execution_count": 29,
   "id": "97b12a2b-61ae-49a5-b172-7d930745f80b",
   "metadata": {},
   "outputs": [
    {
     "data": {
      "text/plain": [
       "Puzzle(fname='tests.txt')"
      ]
     },
     "execution_count": 29,
     "metadata": {},
     "output_type": "execute_result"
    }
   ],
   "source": [
    "puz = Puzzle(\"tests.txt\")\n",
    "puz"
   ]
  },
  {
   "cell_type": "code",
   "execution_count": 30,
   "id": "1c927e3d-54ac-4608-a506-0113ed2ee136",
   "metadata": {},
   "outputs": [
    {
     "data": {
      "text/plain": [
       "1656"
      ]
     },
     "execution_count": 30,
     "metadata": {},
     "output_type": "execute_result"
    }
   ],
   "source": [
    "puz.part_1()"
   ]
  },
  {
   "cell_type": "code",
   "execution_count": 27,
   "id": "aeaff76c-1613-4a16-914e-a1f3ea415606",
   "metadata": {},
   "outputs": [
    {
     "data": {
      "text/plain": [
       "[Octopus(row=0, col=8, nrg_level=2),\n",
       " Octopus(row=1, col=8, nrg_level=1),\n",
       " Octopus(row=1, col=9, nrg_level=1)]"
      ]
     },
     "execution_count": 27,
     "metadata": {},
     "output_type": "execute_result"
    }
   ],
   "source": [
    "tmp = puz.octopi[9]\n",
    "tmp.neighbors"
   ]
  },
  {
   "cell_type": "code",
   "execution_count": 21,
   "id": "37f6f676-5a27-4d8d-ab28-0bfb21405dcc",
   "metadata": {},
   "outputs": [
    {
     "data": {
      "text/plain": [
       "(0, 9)"
      ]
     },
     "execution_count": 21,
     "metadata": {},
     "output_type": "execute_result"
    }
   ],
   "source": [
    "tmp.row, tmp.col"
   ]
  },
  {
   "cell_type": "code",
   "execution_count": 24,
   "id": "9eb34007-d595-469d-a8e8-09d16381c1b7",
   "metadata": {},
   "outputs": [
    {
     "data": {
      "text/plain": [
       "[Octopus(row=0, col=8, nrg_level=2),\n",
       " Octopus(row=1, col=8, nrg_level=1),\n",
       " Octopus(row=1, col=9, nrg_level=1)]"
      ]
     },
     "execution_count": 24,
     "metadata": {},
     "output_type": "execute_result"
    }
   ],
   "source": [
    "tmp.get_neighbors(puz.octopi)"
   ]
  },
  {
   "cell_type": "code",
   "execution_count": null,
   "id": "b78fad31-7c9c-44c5-b826-111ea9c9c093",
   "metadata": {},
   "outputs": [],
   "source": [
    "def validate(my_string):\n",
    "    brackets = [\"()\", \"{}\", \"[]\", \"<>\"]\n",
    "    while any(pair in my_string for pair in brackets):\n",
    "        for br in brackets:\n",
    "            my_string = my_string.replace(br, \"\")\n",
    "    incomplete = set(my_string) - set(\"({[<\") == set()\n",
    "    invalid = [my_string.find(rt_br) for rt_br in \")}]>\"]\n",
    "    invalid = [x for x in invalid if x != -1]\n",
    "    if invalid:\n",
    "        invalid = min(invalid)\n",
    "    else:\n",
    "        invalid = None\n",
    "    return my_string, incomplete, my_string[invalid]\n",
    "\n",
    "\n",
    "Navigation(\"{([(<{}[<>[]}>{[]{[(<()>\")"
   ]
  },
  {
   "cell_type": "code",
   "execution_count": null,
   "id": "8f0be7de-532b-48aa-92be-0a8528ee587a",
   "metadata": {},
   "outputs": [],
   "source": [
    "my_string = \"<\"\n",
    "bool(set(my_string) & set(\"({[<\"))  # == set()"
   ]
  },
  {
   "cell_type": "code",
   "execution_count": null,
   "id": "5c3b8050-07a1-439e-88c2-7f57819f92c7",
   "metadata": {},
   "outputs": [],
   "source": [
    "validate(\"[[<[([]))<([[{}[[()]]]\")"
   ]
  },
  {
   "cell_type": "code",
   "execution_count": null,
   "id": "cc07952e-ff75-4eee-a5f2-b2ab7ed71383",
   "metadata": {},
   "outputs": [],
   "source": [
    "validate(\"[({(<(())[]>[[{[]{<()<>>\")"
   ]
  },
  {
   "cell_type": "code",
   "execution_count": null,
   "id": "bed4ca26-4444-46e6-be20-5df23fbfbd8b",
   "metadata": {},
   "outputs": [],
   "source": [
    "\"asdhf\".find()"
   ]
  },
  {
   "cell_type": "code",
   "execution_count": null,
   "id": "1a146181-e20a-4259-afcf-7904f06743c1",
   "metadata": {},
   "outputs": [],
   "source": [
    "fname = \"tests.txt\"\n",
    "raw = Path(fname).open().readlines()\n",
    "grid = np.array([list(row.strip()) for row in raw]).astype(int)\n",
    "\n",
    "\n",
    "low_pts = []\n",
    "\n",
    "for rownum, row in enumerate(grid):\n",
    "    for colnum, val in enumerate(row):\n",
    "        pt = Point(rownum, colnum, grid)\n",
    "        if pt.is_lowest():\n",
    "            low_pts.append(pt)\n",
    "pt"
   ]
  },
  {
   "cell_type": "code",
   "execution_count": null,
   "id": "f48c9a12-d485-4971-9122-ff151f490ea8",
   "metadata": {},
   "outputs": [],
   "source": [
    "basins = np.where(grid == 9, 0, 1)\n",
    "basins"
   ]
  },
  {
   "cell_type": "code",
   "execution_count": null,
   "id": "5d68164e-df14-4289-ad27-0b67ff6fcad6",
   "metadata": {},
   "outputs": [],
   "source": [
    "from scipy.ndimage import measurements\n",
    "\n",
    "lw, num = measurements.label(basins)\n",
    "area = measurements.sum(basins, lw, index=np.arange(lw.max() + 1))\n",
    "area"
   ]
  },
  {
   "cell_type": "markdown",
   "id": "d5dafc24-d3c5-4e49-986e-1f7c61371142",
   "metadata": {},
   "source": [
    "## Black format my final answer"
   ]
  },
  {
   "cell_type": "code",
   "execution_count": 32,
   "id": "e2a7f23f-8dbf-4bd5-b0f7-91e245dcb340",
   "metadata": {},
   "outputs": [
    {
     "name": "stdout",
     "output_type": "stream",
     "text": [
      "All tests passed.\n",
      "Part 1: 1615\n",
      "Part 2: 249\n"
     ]
    }
   ],
   "source": [
    "from pathlib import Path\n",
    "from dataclasses import dataclass, field\n",
    "from statistics import median\n",
    "\n",
    "\n",
    "T1_ANS = 1656\n",
    "T2_ANS = 195\n",
    "\n",
    "\n",
    "@dataclass\n",
    "class Octopus:\n",
    "    row: int\n",
    "    col: int\n",
    "    nrg_level: int\n",
    "    has_fired: bool = field(default=False, repr=False)\n",
    "    neighbors: list = field(default_factory=list, repr=False)\n",
    "    total_flashes: int = 0\n",
    "\n",
    "    def __post_init__(self):\n",
    "        neighbors = self.get_neighbor_coords()\n",
    "        return\n",
    "\n",
    "    def get_neighbor_coords(self):\n",
    "        row = self.row\n",
    "        col = self.col\n",
    "        neighbor_coords = [\n",
    "            (row - 1, col - 1),\n",
    "            (row - 1, col),\n",
    "            (row - 1, col + 1),\n",
    "            (row, col - 1),\n",
    "            (row, col + 1),\n",
    "            (row + 1, col - 1),\n",
    "            (row + 1, col),\n",
    "            (row + 1, col + 1),\n",
    "        ]\n",
    "        neighbor_coords = [\n",
    "            (r, c) for r, c in neighbor_coords if 0 <= r <= 9 and 0 <= c <= 9\n",
    "        ]\n",
    "        return neighbor_coords\n",
    "\n",
    "    def set_neighbors(self, octopi):\n",
    "        neighbor_coords = self.get_neighbor_coords()\n",
    "        self.neighbors = [x for x in octopi if (x.row, x.col) in neighbor_coords]\n",
    "        return\n",
    "\n",
    "    def increase_nrg(self):\n",
    "        self.nrg_level += 1\n",
    "        return\n",
    "\n",
    "    def light_up(self):\n",
    "        if self.nrg_level > 9 and not self.has_fired:\n",
    "            self.has_fired = True\n",
    "            self.total_flashes += 1\n",
    "\n",
    "            for neighbor in self.neighbors:\n",
    "                self.propogate(neighbor)\n",
    "\n",
    "        return\n",
    "\n",
    "    def propogate(self, other):\n",
    "        other.nrg_level += 1\n",
    "        if other.nrg_level > 9 and not other.has_fired:\n",
    "            other.light_up()\n",
    "\n",
    "    def reset_nrg(self):\n",
    "        if self.has_fired is True:\n",
    "            self.nrg_level = 0\n",
    "            self.has_fired = False\n",
    "        return\n",
    "\n",
    "\n",
    "@dataclass\n",
    "class Puzzle:\n",
    "    fname: str\n",
    "    octopi: list[Octopus] = field(default_factory=list, repr=False)\n",
    "    n: int = 0\n",
    "    after_100: int = None\n",
    "    first_sync: int = None\n",
    "\n",
    "    def __post_init__(self):\n",
    "        raw = Path(self.fname).open().readlines()\n",
    "        levels = [[int(x) for x in line.strip()] for line in raw]\n",
    "\n",
    "        octopi = []\n",
    "        for row_num, row in enumerate(levels):\n",
    "            for col_num, lvl in enumerate(row):\n",
    "                octopi.append(Octopus(row_num, col_num, lvl))\n",
    "\n",
    "        self.octopi = octopi\n",
    "        for octopus in self.octopi:\n",
    "            octopus.set_neighbors(octopi)\n",
    "        return\n",
    "\n",
    "    def single_round(self, part_2=False):\n",
    "\n",
    "        for octps in self.octopi:\n",
    "            octps.increase_nrg()\n",
    "\n",
    "        for octps in self.octopi:\n",
    "            octps.light_up()\n",
    "\n",
    "        if self.n == 99:\n",
    "            self.after_100 = sum([octps.total_flashes for octps in self.octopi])\n",
    "\n",
    "        if part_2:\n",
    "            total_diff_nrg = len(set(x.nrg_level for x in self.octopi))\n",
    "            if total_diff_nrg == 1:\n",
    "                self.first_sync = self.n\n",
    "\n",
    "        for octps in self.octopi:\n",
    "            octps.reset_nrg()\n",
    "        self.n += 1\n",
    "        return\n",
    "\n",
    "    def part_1(self):\n",
    "        for _ in range(100):\n",
    "            self.single_round()\n",
    "\n",
    "        return self.after_100\n",
    "\n",
    "    def part_2(self):\n",
    "        while self.first_sync is None:\n",
    "            self.single_round(part_2=True)\n",
    "            if self.n > 1000:\n",
    "                print(\"This is going too long.\")\n",
    "                break\n",
    "\n",
    "        return self.first_sync\n",
    "\n",
    "\n",
    "def run_tests(p1_ans=T1_ANS, p2_ans=T2_ANS, fname=\"tests.txt\"):\n",
    "    puz = Puzzle(fname)\n",
    "    t1 = puz.part_1()\n",
    "    assert t1 == p1_ans, f\"Test 1 failed. Got {t1} instead of {p1_ans}\"\n",
    "\n",
    "    if p2_ans is not None:\n",
    "        t2 = puz.part_2()\n",
    "        assert t2 == p2_ans, f\"Test 2 failed. Got {t2} instead of {p2_ans}\"\n",
    "\n",
    "    print(\"All tests passed.\")\n",
    "    return\n",
    "\n",
    "\n",
    "if __name__ == \"__main__\":\n",
    "    run_tests()\n",
    "\n",
    "    puz = Puzzle(\"inputs.txt\")\n",
    "\n",
    "    p1 = puz.part_1()\n",
    "    print(\"Part 1:\", p1)\n",
    "\n",
    "    if T2_ANS is not None:\n",
    "        p2 = puz.part_2()\n",
    "        print(\"Part 2:\", p2)"
   ]
  },
  {
   "cell_type": "code",
   "execution_count": null,
   "id": "4a0c23fc-ea30-431d-98e5-a997bdcfcab4",
   "metadata": {},
   "outputs": [],
   "source": [
    "import numpy as np\n",
    "from scipy import ndimage\n",
    "\n",
    "# floor = np.array(\n",
    "#     [\n",
    "#         [2, 1, 9, 9, 9, 4, 3, 2, 1, 0],\n",
    "#         [3, 9, 8, 7, 8, 9, 4, 9, 2, 1],\n",
    "#         [9, 8, 5, 6, 7, 8, 9, 8, 9, 2],\n",
    "#         [8, 7, 6, 7, 8, 9, 6, 7, 8, 9],\n",
    "#         [9, 8, 9, 9, 9, 6, 5, 6, 7, 8],\n",
    "#     ]\n",
    "# )\n",
    "\n",
    "floor = puz.grid\n",
    "\n",
    "mask = np.array([[0, 1, 0], [1, 1, 1], [0, 1, 0]])\n",
    "\n",
    "window_minima = ndimage.minimum_filter(floor, footprint=mask, mode=\"constant\", cval=9)\n",
    "minima = floor[floor == window_minima]\n",
    "sum(minima + 1)"
   ]
  },
  {
   "cell_type": "code",
   "execution_count": null,
   "id": "0c6b2f48-935f-4e42-a667-198fe12fb40a",
   "metadata": {},
   "outputs": [],
   "source": [
    "np.where(floor == window_minima, 1, 0)"
   ]
  },
  {
   "cell_type": "code",
   "execution_count": null,
   "id": "f40fc80c-e7ee-4f21-ada1-7edabeba05e4",
   "metadata": {},
   "outputs": [],
   "source": []
  }
 ],
 "metadata": {
  "kernelspec": {
   "display_name": "Python 3",
   "language": "python",
   "name": "python3"
  },
  "language_info": {
   "codemirror_mode": {
    "name": "ipython",
    "version": 3
   },
   "file_extension": ".py",
   "mimetype": "text/x-python",
   "name": "python",
   "nbconvert_exporter": "python",
   "pygments_lexer": "ipython3",
   "version": "3.9.5"
  }
 },
 "nbformat": 4,
 "nbformat_minor": 5
}
