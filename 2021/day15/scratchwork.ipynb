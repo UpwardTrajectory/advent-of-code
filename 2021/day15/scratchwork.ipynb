{
 "cells": [
  {
   "cell_type": "code",
   "execution_count": 51,
   "id": "7d5c1c53-6cbe-4c53-93d3-3dc5ba5c91af",
   "metadata": {},
   "outputs": [
    {
     "name": "stdout",
     "output_type": "stream",
     "text": [
      "The lab_black extension is already loaded. To reload it, use:\n",
      "  %reload_ext lab_black\n",
      "The autoreload extension is already loaded. To reload it, use:\n",
      "  %reload_ext autoreload\n"
     ]
    }
   ],
   "source": [
    "%load_ext lab_black\n",
    "%load_ext autoreload\n",
    "%autoreload 2"
   ]
  },
  {
   "cell_type": "code",
   "execution_count": 5,
   "id": "cc1a022d-5e8b-4697-8940-71bb72f90f38",
   "metadata": {},
   "outputs": [],
   "source": [
    "from pathlib import Path\n",
    "from puzzle import Puzzle\n",
    "\n",
    "# from skimage.graph import route_through_array"
   ]
  },
  {
   "cell_type": "code",
   "execution_count": 47,
   "id": "1d9b8c88-c8e5-483f-808b-273ccf6d2fc9",
   "metadata": {},
   "outputs": [
    {
     "data": {
      "text/plain": [
       "Puzzle(fname='tests.txt')"
      ]
     },
     "execution_count": 47,
     "metadata": {},
     "output_type": "execute_result"
    }
   ],
   "source": [
    "puz = Puzzle(\"tests.txt\")\n",
    "puz"
   ]
  },
  {
   "cell_type": "code",
   "execution_count": 50,
   "id": "944a6e2b-ed6e-4700-bbc1-72fd7afaa9aa",
   "metadata": {},
   "outputs": [
    {
     "data": {
      "text/plain": [
       "array([[1, 1, 6, ..., 2, 8, 6],\n",
       "       [1, 3, 8, ..., 1, 2, 6],\n",
       "       [2, 1, 3, ..., 7, 6, 3],\n",
       "       ...,\n",
       "       [7, 5, 6, ..., 5, 2, 8],\n",
       "       [5, 6, 4, ..., 4, 1, 9],\n",
       "       [6, 7, 5, ..., 4, 7, 9]])"
      ]
     },
     "execution_count": 50,
     "metadata": {},
     "output_type": "execute_result"
    }
   ],
   "source": [
    "p = puz.expand_grid()\n",
    "\n",
    "\n",
    "big_grid"
   ]
  },
  {
   "cell_type": "code",
   "execution_count": 41,
   "id": "011edae3-4272-431a-99e6-f704cf0bfeea",
   "metadata": {},
   "outputs": [
    {
     "data": {
      "text/plain": [
       "40"
      ]
     },
     "execution_count": 41,
     "metadata": {},
     "output_type": "execute_result"
    }
   ],
   "source": [
    "puz.part_1()"
   ]
  },
  {
   "cell_type": "code",
   "execution_count": 44,
   "id": "03c7ab28-2d3f-4f42-b320-53085eedaf7a",
   "metadata": {},
   "outputs": [
    {
     "data": {
      "text/plain": [
       "array([[2, 2, 7, 4, 8, 6, 2, 8, 5, 3],\n",
       "       [2, 4, 9, 2, 4, 8, 4, 7, 8, 3],\n",
       "       [3, 2, 4, 7, 6, 2, 2, 4, 3, 9],\n",
       "       [4, 7, 1, 5, 1, 4, 2, 6, 7, 1],\n",
       "       [8, 5, 7, 4, 5, 2, 8, 2, 2, 2],\n",
       "       [2, 4, 2, 1, 2, 3, 9, 2, 4, 8],\n",
       "       [2, 4, 6, 1, 1, 2, 3, 5, 3, 2],\n",
       "       [4, 2, 3, 6, 5, 3, 2, 7, 4, 1],\n",
       "       [2, 3, 1, 4, 2, 4, 9, 6, 3, 2],\n",
       "       [3, 4, 2, 2, 1, 5, 5, 6, 9, 2]])"
      ]
     },
     "execution_count": 44,
     "metadata": {},
     "output_type": "execute_result"
    }
   ],
   "source": [
    "grid = puz.maze\n",
    "grid\n",
    "\n",
    "np.where(grid == 9, 1, grid + 1)"
   ]
  },
  {
   "cell_type": "code",
   "execution_count": 39,
   "id": "3d8d5889-1c4a-4c25-9490-37496670ce20",
   "metadata": {},
   "outputs": [
    {
     "data": {
      "text/plain": [
       "array([1, 2, 2, 2, 2, 2, 2, 2, 3, 3, 4, 5, 5, 6, 7, 8, 8, 9])"
      ]
     },
     "execution_count": 39,
     "metadata": {},
     "output_type": "execute_result"
    }
   ],
   "source": [
    "route[0, 1:]"
   ]
  },
  {
   "cell_type": "code",
   "execution_count": 34,
   "id": "9a590764-11d1-40ea-9f64-1ce8b274fb60",
   "metadata": {},
   "outputs": [
    {
     "data": {
      "text/plain": [
       "array([[1, 1, 6, 3, 7, 5, 1, 7, 4, 2],\n",
       "       [1, 3, 8, 1, 3, 7, 3, 6, 7, 2],\n",
       "       [2, 1, 3, 6, 5, 1, 1, 3, 2, 8],\n",
       "       [3, 6, 9, 4, 9, 3, 1, 5, 6, 9],\n",
       "       [7, 4, 6, 3, 4, 1, 7, 1, 1, 1],\n",
       "       [1, 3, 1, 9, 1, 2, 8, 1, 3, 7],\n",
       "       [1, 3, 5, 9, 9, 1, 2, 4, 2, 1],\n",
       "       [3, 1, 2, 5, 4, 2, 1, 6, 3, 9],\n",
       "       [1, 2, 9, 3, 1, 3, 8, 5, 2, 1],\n",
       "       [2, 3, 1, 1, 9, 4, 4, 5, 8, 1]])"
      ]
     },
     "execution_count": 34,
     "metadata": {},
     "output_type": "execute_result"
    }
   ],
   "source": [
    "puz.maze"
   ]
  },
  {
   "cell_type": "code",
   "execution_count": null,
   "id": "0c881d5f-b5e2-4ff7-b343-a69870cfd81f",
   "metadata": {},
   "outputs": [],
   "source": [
    "puz.part_2()"
   ]
  },
  {
   "cell_type": "markdown",
   "id": "d5dafc24-d3c5-4e49-986e-1f7c61371142",
   "metadata": {},
   "source": [
    "## Black format my final answer"
   ]
  },
  {
   "cell_type": "code",
   "execution_count": 52,
   "id": "c1331053-7169-4f3b-9fc1-c05bb02a11b0",
   "metadata": {},
   "outputs": [
    {
     "name": "stdout",
     "output_type": "stream",
     "text": [
      "All tests passed.\n",
      "Part 1: 696\n",
      "Part 2: 2952\n"
     ]
    }
   ],
   "source": [
    "from pathlib import Path\n",
    "from dataclasses import dataclass, field\n",
    "import numpy as np\n",
    "from skimage.graph import route_through_array\n",
    "\n",
    "\n",
    "T1_ANS = 40\n",
    "T2_ANS = 315\n",
    "\n",
    "\n",
    "@dataclass\n",
    "class Puzzle:\n",
    "    fname: str\n",
    "\n",
    "    def __post_init__(self):\n",
    "        raw = Path(self.fname).open().readlines()  # or read() for a big block of text\n",
    "        maze = np.array([list(row.strip()) for row in raw], dtype=int)\n",
    "        self.maze = maze\n",
    "        return\n",
    "\n",
    "    def expand_grid(self):\n",
    "        \"\"\"original grid is copied into a 5x5 mega grid.\n",
    "        Each time copy horizontally or vertically adds one, but 9s wrap back to 1s\n",
    "\n",
    "        These are the amounts added BEFORE wrapping:\n",
    "\n",
    "        0 1 2 3 4\n",
    "        1 2 3 4 5\n",
    "        2 3 4 5 6\n",
    "        3 4 5 6 7\n",
    "        4 5 6 7 8\n",
    "        \"\"\"\n",
    "\n",
    "        def grow(grid):\n",
    "            return np.where(grid == 9, 1, grid + 1)\n",
    "\n",
    "        pos_grids = {0: self.maze}\n",
    "\n",
    "        for n in range(1, 9):\n",
    "            pos_grids[n] = grow(pos_grids[n - 1])\n",
    "\n",
    "        big_grid = []\n",
    "        # Build horizontal rows of 5, then vstack them at the end\n",
    "        for start in range(5):\n",
    "            big_grid.append(np.hstack([pos_grids[i] for i in range(start, start + 5)]))\n",
    "\n",
    "        return np.vstack(big_grid)\n",
    "\n",
    "    def get_lowest_risk_route(self, maze=None):\n",
    "        if maze is None:\n",
    "            maze = self.maze\n",
    "        end = [dim - 1 for dim in maze.shape]\n",
    "        route, score = route_through_array(maze, (0, 0), end, fully_connected=False)\n",
    "        route = np.stack(route, axis=-1)\n",
    "        return maze[route[0, 1:], route[1, 1:]].sum()\n",
    "\n",
    "    def part_1(self):\n",
    "        return self.get_lowest_risk_route()\n",
    "\n",
    "    def part_2(self):\n",
    "        big_maze = self.expand_grid()\n",
    "        return self.get_lowest_risk_route(big_maze)\n",
    "\n",
    "\n",
    "def run_tests(p1_ans=T1_ANS, p2_ans=T2_ANS, fname=\"tests.txt\"):\n",
    "    puz = Puzzle(fname)\n",
    "    t1 = puz.part_1()\n",
    "    assert t1 == p1_ans, f\"Test 1 failed. Got {t1} instead of {p1_ans}\"\n",
    "\n",
    "    if p2_ans is not None:\n",
    "        t2 = puz.part_2()\n",
    "        assert t2 == p2_ans, f\"Test 2 failed. Got {t2} instead of {p2_ans}\"\n",
    "\n",
    "    print(\"All tests passed.\")\n",
    "    return\n",
    "\n",
    "\n",
    "if __name__ == \"__main__\":\n",
    "    run_tests()\n",
    "\n",
    "    puz = Puzzle(\"inputs.txt\")\n",
    "\n",
    "    p1 = puz.part_1()\n",
    "    print(\"Part 1:\", p1)\n",
    "\n",
    "    if T2_ANS is not None:\n",
    "        p2 = puz.part_2()\n",
    "        print(\"Part 2:\", p2)"
   ]
  },
  {
   "cell_type": "code",
   "execution_count": 2,
   "id": "e9ffbb1e-277b-4aa3-9eeb-5abac8992df6",
   "metadata": {},
   "outputs": [],
   "source": []
  },
  {
   "cell_type": "code",
   "execution_count": null,
   "id": "6758df63-e330-476c-98fc-589d7bbf75bc",
   "metadata": {},
   "outputs": [],
   "source": []
  }
 ],
 "metadata": {
  "kernelspec": {
   "display_name": "Python 3 (ipykernel)",
   "language": "python",
   "name": "python3"
  },
  "language_info": {
   "codemirror_mode": {
    "name": "ipython",
    "version": 3
   },
   "file_extension": ".py",
   "mimetype": "text/x-python",
   "name": "python",
   "nbconvert_exporter": "python",
   "pygments_lexer": "ipython3",
   "version": "3.10.0"
  }
 },
 "nbformat": 4,
 "nbformat_minor": 5
}
