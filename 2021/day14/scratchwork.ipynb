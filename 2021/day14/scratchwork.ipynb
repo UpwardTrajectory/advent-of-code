{
 "cells": [
  {
   "cell_type": "code",
   "execution_count": null,
   "id": "7d5c1c53-6cbe-4c53-93d3-3dc5ba5c91af",
   "metadata": {},
   "outputs": [],
   "source": [
    "%load_ext lab_black\n",
    "%load_ext autoreload\n",
    "%autoreload 2"
   ]
  },
  {
   "cell_type": "code",
   "execution_count": null,
   "id": "cc1a022d-5e8b-4697-8940-71bb72f90f38",
   "metadata": {},
   "outputs": [],
   "source": [
    "from pathlib import Path\n",
    "from puzzle import Puzzle"
   ]
  },
  {
   "cell_type": "code",
   "execution_count": null,
   "id": "1d9b8c88-c8e5-483f-808b-273ccf6d2fc9",
   "metadata": {},
   "outputs": [],
   "source": [
    "puz = Puzzle(\"tests.txt\")\n",
    "puz"
   ]
  },
  {
   "cell_type": "code",
   "execution_count": null,
   "id": "011edae3-4272-431a-99e6-f704cf0bfeea",
   "metadata": {},
   "outputs": [],
   "source": [
    "puz.part_1()"
   ]
  },
  {
   "cell_type": "code",
   "execution_count": null,
   "id": "0c881d5f-b5e2-4ff7-b343-a69870cfd81f",
   "metadata": {},
   "outputs": [],
   "source": [
    "puz.part_2()"
   ]
  },
  {
   "cell_type": "markdown",
   "id": "d5dafc24-d3c5-4e49-986e-1f7c61371142",
   "metadata": {},
   "source": [
    "## Black format my final answer"
   ]
  },
  {
   "cell_type": "code",
   "execution_count": 2,
   "id": "e2a7f23f-8dbf-4bd5-b0f7-91e245dcb340",
   "metadata": {},
   "outputs": [
    {
     "data": {
      "text/plain": [
       "['day15',\n",
       " 'day16',\n",
       " 'day17',\n",
       " 'day18',\n",
       " 'day19',\n",
       " 'day20',\n",
       " 'day21',\n",
       " 'day22',\n",
       " 'day23',\n",
       " 'day24',\n",
       " 'day25']"
      ]
     },
     "execution_count": 2,
     "metadata": {},
     "output_type": "execute_result"
    }
   ],
   "source": [
    "dir_names = [\"day\"+str(x) for x in range(15, 26)]\n",
    "dir_names"
   ]
  },
  {
   "cell_type": "code",
   "execution_count": 13,
   "id": "f40fc80c-e7ee-4f21-ada1-7edabeba05e4",
   "metadata": {},
   "outputs": [
    {
     "name": "stdout",
     "output_type": "stream",
     "text": [
      "[WindowsPath('inputs.txt'), WindowsPath('puzzle.py'), WindowsPath('scratchwork.ipynb'), WindowsPath('tests.txt')]\n"
     ]
    }
   ],
   "source": [
    "from pathlib import Path\n",
    "import shutil\n",
    "\n",
    "\n",
    "p = Path(\"..\").resolve()\n",
    "\n",
    "source = Path().glob(\"*.*\")\n",
    "source = list(x for x in source if \"checkpoints\" not in str(x))\n",
    "print(source)\n",
    "\n",
    "for dirname in dir_names:\n",
    "    new_folder = p / dirname\n",
    "    new_folder.mkdir(parents=True)\n",
    "    for file in source:\n",
    "        shutil.copy(str(file), new_folder / str(file))\n",
    "    "
   ]
  },
  {
   "cell_type": "code",
   "execution_count": null,
   "id": "55ceb89a-0d41-436f-9b85-41cadd467708",
   "metadata": {},
   "outputs": [],
   "source": []
  }
 ],
 "metadata": {
  "kernelspec": {
   "display_name": "Python 3 (ipykernel)",
   "language": "python",
   "name": "python3"
  },
  "language_info": {
   "codemirror_mode": {
    "name": "ipython",
    "version": 3
   },
   "file_extension": ".py",
   "mimetype": "text/x-python",
   "name": "python",
   "nbconvert_exporter": "python",
   "pygments_lexer": "ipython3",
   "version": "3.9.5"
  }
 },
 "nbformat": 4,
 "nbformat_minor": 5
}
